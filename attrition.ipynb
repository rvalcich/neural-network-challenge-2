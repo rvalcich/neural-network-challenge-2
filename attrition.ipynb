{
 "cells": [
  {
   "cell_type": "markdown",
   "metadata": {
    "id": "alIIEHibGc3M"
   },
   "source": [
    "## Part 1: Preprocessing"
   ]
  },
  {
   "cell_type": "code",
   "execution_count": 2,
   "metadata": {
    "colab": {
     "base_uri": "https://localhost:8080/",
     "height": 325
    },
    "id": "6eDUJ4NtGc3P",
    "outputId": "2480098c-135c-4cbf-9552-018494ee8ff5",
    "scrolled": true
   },
   "outputs": [
    {
     "name": "stderr",
     "output_type": "stream",
     "text": [
      "2024-11-20 16:58:41.649401: I tensorflow/core/platform/cpu_feature_guard.cc:210] This TensorFlow binary is optimized to use available CPU instructions in performance-critical operations.\n",
      "To enable the following instructions: AVX2 FMA, in other operations, rebuild TensorFlow with the appropriate compiler flags.\n"
     ]
    },
    {
     "data": {
      "text/html": [
       "<div>\n",
       "<style scoped>\n",
       "    .dataframe tbody tr th:only-of-type {\n",
       "        vertical-align: middle;\n",
       "    }\n",
       "\n",
       "    .dataframe tbody tr th {\n",
       "        vertical-align: top;\n",
       "    }\n",
       "\n",
       "    .dataframe thead th {\n",
       "        text-align: right;\n",
       "    }\n",
       "</style>\n",
       "<table border=\"1\" class=\"dataframe\">\n",
       "  <thead>\n",
       "    <tr style=\"text-align: right;\">\n",
       "      <th></th>\n",
       "      <th>Age</th>\n",
       "      <th>Attrition</th>\n",
       "      <th>BusinessTravel</th>\n",
       "      <th>Department</th>\n",
       "      <th>DistanceFromHome</th>\n",
       "      <th>Education</th>\n",
       "      <th>EducationField</th>\n",
       "      <th>EnvironmentSatisfaction</th>\n",
       "      <th>HourlyRate</th>\n",
       "      <th>JobInvolvement</th>\n",
       "      <th>...</th>\n",
       "      <th>PerformanceRating</th>\n",
       "      <th>RelationshipSatisfaction</th>\n",
       "      <th>StockOptionLevel</th>\n",
       "      <th>TotalWorkingYears</th>\n",
       "      <th>TrainingTimesLastYear</th>\n",
       "      <th>WorkLifeBalance</th>\n",
       "      <th>YearsAtCompany</th>\n",
       "      <th>YearsInCurrentRole</th>\n",
       "      <th>YearsSinceLastPromotion</th>\n",
       "      <th>YearsWithCurrManager</th>\n",
       "    </tr>\n",
       "  </thead>\n",
       "  <tbody>\n",
       "    <tr>\n",
       "      <th>0</th>\n",
       "      <td>41</td>\n",
       "      <td>Yes</td>\n",
       "      <td>Travel_Rarely</td>\n",
       "      <td>Sales</td>\n",
       "      <td>1</td>\n",
       "      <td>2</td>\n",
       "      <td>Life Sciences</td>\n",
       "      <td>2</td>\n",
       "      <td>94</td>\n",
       "      <td>3</td>\n",
       "      <td>...</td>\n",
       "      <td>3</td>\n",
       "      <td>1</td>\n",
       "      <td>0</td>\n",
       "      <td>8</td>\n",
       "      <td>0</td>\n",
       "      <td>1</td>\n",
       "      <td>6</td>\n",
       "      <td>4</td>\n",
       "      <td>0</td>\n",
       "      <td>5</td>\n",
       "    </tr>\n",
       "    <tr>\n",
       "      <th>1</th>\n",
       "      <td>49</td>\n",
       "      <td>No</td>\n",
       "      <td>Travel_Frequently</td>\n",
       "      <td>Research &amp; Development</td>\n",
       "      <td>8</td>\n",
       "      <td>1</td>\n",
       "      <td>Life Sciences</td>\n",
       "      <td>3</td>\n",
       "      <td>61</td>\n",
       "      <td>2</td>\n",
       "      <td>...</td>\n",
       "      <td>4</td>\n",
       "      <td>4</td>\n",
       "      <td>1</td>\n",
       "      <td>10</td>\n",
       "      <td>3</td>\n",
       "      <td>3</td>\n",
       "      <td>10</td>\n",
       "      <td>7</td>\n",
       "      <td>1</td>\n",
       "      <td>7</td>\n",
       "    </tr>\n",
       "    <tr>\n",
       "      <th>2</th>\n",
       "      <td>37</td>\n",
       "      <td>Yes</td>\n",
       "      <td>Travel_Rarely</td>\n",
       "      <td>Research &amp; Development</td>\n",
       "      <td>2</td>\n",
       "      <td>2</td>\n",
       "      <td>Other</td>\n",
       "      <td>4</td>\n",
       "      <td>92</td>\n",
       "      <td>2</td>\n",
       "      <td>...</td>\n",
       "      <td>3</td>\n",
       "      <td>2</td>\n",
       "      <td>0</td>\n",
       "      <td>7</td>\n",
       "      <td>3</td>\n",
       "      <td>3</td>\n",
       "      <td>0</td>\n",
       "      <td>0</td>\n",
       "      <td>0</td>\n",
       "      <td>0</td>\n",
       "    </tr>\n",
       "    <tr>\n",
       "      <th>3</th>\n",
       "      <td>33</td>\n",
       "      <td>No</td>\n",
       "      <td>Travel_Frequently</td>\n",
       "      <td>Research &amp; Development</td>\n",
       "      <td>3</td>\n",
       "      <td>4</td>\n",
       "      <td>Life Sciences</td>\n",
       "      <td>4</td>\n",
       "      <td>56</td>\n",
       "      <td>3</td>\n",
       "      <td>...</td>\n",
       "      <td>3</td>\n",
       "      <td>3</td>\n",
       "      <td>0</td>\n",
       "      <td>8</td>\n",
       "      <td>3</td>\n",
       "      <td>3</td>\n",
       "      <td>8</td>\n",
       "      <td>7</td>\n",
       "      <td>3</td>\n",
       "      <td>0</td>\n",
       "    </tr>\n",
       "    <tr>\n",
       "      <th>4</th>\n",
       "      <td>27</td>\n",
       "      <td>No</td>\n",
       "      <td>Travel_Rarely</td>\n",
       "      <td>Research &amp; Development</td>\n",
       "      <td>2</td>\n",
       "      <td>1</td>\n",
       "      <td>Medical</td>\n",
       "      <td>1</td>\n",
       "      <td>40</td>\n",
       "      <td>3</td>\n",
       "      <td>...</td>\n",
       "      <td>3</td>\n",
       "      <td>4</td>\n",
       "      <td>1</td>\n",
       "      <td>6</td>\n",
       "      <td>3</td>\n",
       "      <td>3</td>\n",
       "      <td>2</td>\n",
       "      <td>2</td>\n",
       "      <td>2</td>\n",
       "      <td>2</td>\n",
       "    </tr>\n",
       "  </tbody>\n",
       "</table>\n",
       "<p>5 rows × 27 columns</p>\n",
       "</div>"
      ],
      "text/plain": [
       "   Age Attrition     BusinessTravel              Department  DistanceFromHome  \\\n",
       "0   41       Yes      Travel_Rarely                   Sales                 1   \n",
       "1   49        No  Travel_Frequently  Research & Development                 8   \n",
       "2   37       Yes      Travel_Rarely  Research & Development                 2   \n",
       "3   33        No  Travel_Frequently  Research & Development                 3   \n",
       "4   27        No      Travel_Rarely  Research & Development                 2   \n",
       "\n",
       "   Education EducationField  EnvironmentSatisfaction  HourlyRate  \\\n",
       "0          2  Life Sciences                        2          94   \n",
       "1          1  Life Sciences                        3          61   \n",
       "2          2          Other                        4          92   \n",
       "3          4  Life Sciences                        4          56   \n",
       "4          1        Medical                        1          40   \n",
       "\n",
       "   JobInvolvement  ...  PerformanceRating RelationshipSatisfaction  \\\n",
       "0               3  ...                  3                        1   \n",
       "1               2  ...                  4                        4   \n",
       "2               2  ...                  3                        2   \n",
       "3               3  ...                  3                        3   \n",
       "4               3  ...                  3                        4   \n",
       "\n",
       "   StockOptionLevel TotalWorkingYears  TrainingTimesLastYear WorkLifeBalance  \\\n",
       "0                 0                 8                      0               1   \n",
       "1                 1                10                      3               3   \n",
       "2                 0                 7                      3               3   \n",
       "3                 0                 8                      3               3   \n",
       "4                 1                 6                      3               3   \n",
       "\n",
       "   YearsAtCompany  YearsInCurrentRole  YearsSinceLastPromotion  \\\n",
       "0               6                   4                        0   \n",
       "1              10                   7                        1   \n",
       "2               0                   0                        0   \n",
       "3               8                   7                        3   \n",
       "4               2                   2                        2   \n",
       "\n",
       "   YearsWithCurrManager  \n",
       "0                     5  \n",
       "1                     7  \n",
       "2                     0  \n",
       "3                     0  \n",
       "4                     2  \n",
       "\n",
       "[5 rows x 27 columns]"
      ]
     },
     "execution_count": 2,
     "metadata": {},
     "output_type": "execute_result"
    }
   ],
   "source": [
    "# Import our dependencies\n",
    "from sklearn.model_selection import train_test_split\n",
    "from sklearn.preprocessing import StandardScaler, LabelEncoder, OneHotEncoder\n",
    "import pandas as pd\n",
    "import numpy as np\n",
    "from tensorflow.keras.models import Model\n",
    "from tensorflow.keras import layers\n",
    "\n",
    "#  Import and read the attrition data\n",
    "attrition_df = pd.read_csv('https://static.bc-edx.com/ai/ail-v-1-0/m19/lms/datasets/attrition.csv')\n",
    "attrition_df.head()"
   ]
  },
  {
   "cell_type": "code",
   "execution_count": 3,
   "metadata": {
    "colab": {
     "base_uri": "https://localhost:8080/"
    },
    "id": "g22aQSY4Gc3Q",
    "outputId": "1f5c13c1-b981-4e40-a7ed-dd3fe6f1b81e"
   },
   "outputs": [
    {
     "data": {
      "text/plain": [
       "Age                         43\n",
       "Attrition                    2\n",
       "BusinessTravel               3\n",
       "Department                   3\n",
       "DistanceFromHome            29\n",
       "Education                    5\n",
       "EducationField               6\n",
       "EnvironmentSatisfaction      4\n",
       "HourlyRate                  71\n",
       "JobInvolvement               4\n",
       "JobLevel                     5\n",
       "JobRole                      9\n",
       "JobSatisfaction              4\n",
       "MaritalStatus                3\n",
       "NumCompaniesWorked          10\n",
       "OverTime                     2\n",
       "PercentSalaryHike           15\n",
       "PerformanceRating            2\n",
       "RelationshipSatisfaction     4\n",
       "StockOptionLevel             4\n",
       "TotalWorkingYears           40\n",
       "TrainingTimesLastYear        7\n",
       "WorkLifeBalance              4\n",
       "YearsAtCompany              37\n",
       "YearsInCurrentRole          19\n",
       "YearsSinceLastPromotion     16\n",
       "YearsWithCurrManager        18\n",
       "dtype: int64"
      ]
     },
     "execution_count": 3,
     "metadata": {},
     "output_type": "execute_result"
    }
   ],
   "source": [
    "# Determine the number of unique values in each column.\n",
    "attrition_df.nunique()"
   ]
  },
  {
   "cell_type": "code",
   "execution_count": 4,
   "metadata": {
    "id": "50vMgBEnJbfM"
   },
   "outputs": [],
   "source": [
    "# Create y_df with the Attrition and Department columns\n",
    "y_df = attrition_df[['Attrition', 'Department']].copy()\n"
   ]
  },
  {
   "cell_type": "code",
   "execution_count": 5,
   "metadata": {
    "colab": {
     "base_uri": "https://localhost:8080/"
    },
    "id": "Virka0zLGc3R",
    "outputId": "dd5aee3a-9458-4ba6-e857-1b234de40915"
   },
   "outputs": [
    {
     "data": {
      "text/plain": [
       "Education                   int64\n",
       "Age                         int64\n",
       "DistanceFromHome            int64\n",
       "JobSatisfaction             int64\n",
       "OverTime                   object\n",
       "StockOptionLevel            int64\n",
       "WorkLifeBalance             int64\n",
       "YearsAtCompany              int64\n",
       "YearsSinceLastPromotion     int64\n",
       "NumCompaniesWorked          int64\n",
       "dtype: object"
      ]
     },
     "execution_count": 5,
     "metadata": {},
     "output_type": "execute_result"
    }
   ],
   "source": [
    "# Create a list of at least 10 column names to use as X data\n",
    "fields = ['Education',\n",
    "          'Age',\n",
    "          'DistanceFromHome',\n",
    "          'JobSatisfaction',\n",
    "          'OverTime',\n",
    "          'StockOptionLevel',\n",
    "          'WorkLifeBalance',\n",
    "          'YearsAtCompany',\n",
    "          'YearsSinceLastPromotion',\n",
    "          'NumCompaniesWorked']\n",
    "\n",
    "\n",
    "# Create X_df using your selected columns\n",
    "X_df = attrition_df[fields].copy()\n",
    "\n",
    "# Show the data types for X_df\n",
    "X_df.dtypes\n"
   ]
  },
  {
   "cell_type": "code",
   "execution_count": 6,
   "metadata": {
    "colab": {
     "base_uri": "https://localhost:8080/"
    },
    "id": "NYubUJqiLCSp",
    "outputId": "53f31721-571c-4c94-d13e-25a715749593"
   },
   "outputs": [
    {
     "data": {
      "text/plain": [
       "OverTime\n",
       "0    1054\n",
       "1     416\n",
       "Name: count, dtype: int64"
      ]
     },
     "execution_count": 6,
     "metadata": {},
     "output_type": "execute_result"
    }
   ],
   "source": [
    "# Convert your X data to numeric data types however you see fit\n",
    "# Add new code cells as necessary\n",
    "OverTime_encoder = LabelEncoder()\n",
    "X_df['OverTime'] = OverTime_encoder.fit_transform(X_df['OverTime'])\n",
    "X_df['OverTime'].value_counts()"
   ]
  },
  {
   "cell_type": "code",
   "execution_count": 7,
   "metadata": {
    "id": "KaJfdOGUMHMR"
   },
   "outputs": [],
   "source": [
    "# Split the data into training and testing sets\n",
    "from sklearn.model_selection import train_test_split\n",
    "\n",
    "X_train, X_test, y_train, y_test = train_test_split(X_df, y_df)"
   ]
  },
  {
   "cell_type": "code",
   "execution_count": 8,
   "metadata": {
    "id": "EWA-aIA5Gc3T"
   },
   "outputs": [],
   "source": [
    "# Create a StandardScaler\n",
    "X_scaler = StandardScaler()\n",
    "\n",
    "# Fit the StandardScaler to the training data\n",
    "X_scaler.fit(X_train)\n",
    "\n",
    "# Scale the training and testing data\n",
    "X_train_scaled = X_scaler.transform(X_train)\n",
    "X_test_scaled = X_scaler.transform(X_test)"
   ]
  },
  {
   "cell_type": "code",
   "execution_count": 9,
   "metadata": {},
   "outputs": [
    {
     "data": {
      "text/plain": [
       "array([[ 1.07541244, -0.0883721 , -0.15568955, ...,  0.51070349,\n",
       "        -0.67764287, -0.67006343],\n",
       "       [ 1.07541244, -0.0883721 ,  1.07332107, ..., -1.00038159,\n",
       "        -0.67764287,  0.5599364 ],\n",
       "       [ 0.10081992, -0.95595392, -0.40149167, ..., -0.66458491,\n",
       "        -0.67764287, -0.67006343],\n",
       "       ...,\n",
       "       [ 0.10081992,  1.42989608, -1.01599698, ...,  1.85389023,\n",
       "        -0.67764287, -1.08006338],\n",
       "       [ 0.10081992, -0.63061074, -0.77019485, ...,  0.00700846,\n",
       "         1.54770284, -0.67006343],\n",
       "       [-0.87377261,  0.3454188 ,  2.05652956, ..., -1.00038159,\n",
       "        -0.67764287,  0.14993646]])"
      ]
     },
     "execution_count": 9,
     "metadata": {},
     "output_type": "execute_result"
    }
   ],
   "source": [
    "X_train_scaled"
   ]
  },
  {
   "cell_type": "code",
   "execution_count": 10,
   "metadata": {
    "colab": {
     "base_uri": "https://localhost:8080/"
    },
    "id": "-z0Mky8vQSz4",
    "outputId": "debefc85-c20b-48f5-f4d9-91eadd65d36a"
   },
   "outputs": [
    {
     "data": {
      "text/plain": [
       "array([[0., 0., 1.],\n",
       "       [0., 1., 0.],\n",
       "       [0., 1., 0.],\n",
       "       ...,\n",
       "       [0., 0., 1.],\n",
       "       [0., 1., 0.],\n",
       "       [0., 1., 0.]])"
      ]
     },
     "execution_count": 10,
     "metadata": {},
     "output_type": "execute_result"
    }
   ],
   "source": [
    "# Create a OneHotEncoder for the Department column\n",
    "department_encoder = OneHotEncoder(sparse_output = False)\n",
    "\n",
    "# Fit the encoder to the training data\n",
    "department_encoder.fit(y_train[['Department']])\n",
    "\n",
    "# Create two new variables by applying the encoder\n",
    "# to the training and testing data\n",
    "y_train_department = department_encoder.transform(y_train[['Department']])\n",
    "y_test_department = department_encoder.transform(y_test[['Department']])\n",
    "\n",
    "y_train_department"
   ]
  },
  {
   "cell_type": "code",
   "execution_count": 11,
   "metadata": {
    "colab": {
     "base_uri": "https://localhost:8080/"
    },
    "id": "-G4DSpvFRrk4",
    "outputId": "9842e948-8a55-4b80-8fac-f96714e85589"
   },
   "outputs": [
    {
     "data": {
      "text/plain": [
       "array([[0., 1.],\n",
       "       [1., 0.],\n",
       "       [1., 0.],\n",
       "       [1., 0.],\n",
       "       [1., 0.]])"
      ]
     },
     "execution_count": 11,
     "metadata": {},
     "output_type": "execute_result"
    }
   ],
   "source": [
    "# Create a OneHotEncoder for the Attrition column\n",
    "attrition_encoder = OneHotEncoder(sparse_output = False)\n",
    "\n",
    "# Fit the encoder to the training data\n",
    "attrition_encoder.fit(y_train[['Attrition']])\n",
    "\n",
    "# Create two new variables by applying the encoder\n",
    "# to the training and testing data\n",
    "y_train_attrition = attrition_encoder.transform(y_train[['Attrition']])\n",
    "y_test_attrition = attrition_encoder.transform(y_test[['Attrition']])\n",
    "\n",
    "y_test_attrition[:5]"
   ]
  },
  {
   "cell_type": "markdown",
   "metadata": {
    "id": "ykNmu_WWGc3T"
   },
   "source": [
    "## Create, Compile, and Train the Model"
   ]
  },
  {
   "cell_type": "code",
   "execution_count": 13,
   "metadata": {
    "id": "WUptZqmSGc3T"
   },
   "outputs": [],
   "source": [
    "# Find the number of columns in the X training data\n",
    "number_input_features = len(X_train.columns)\n",
    "\n",
    "# Create the input layer\n",
    "input_layer = layers.Input(shape = (number_input_features, ), name = 'input')\n",
    "\n",
    "# Create at least two shared layers\n",
    "shared1 = layers.Dense(64, activation = 'relu', name = 'shared1')(input_layer)\n",
    "shared2 = layers.Dense(128, activation = 'relu', name = 'shared2')(shared1)"
   ]
  },
  {
   "cell_type": "code",
   "execution_count": 14,
   "metadata": {
    "id": "JukjTm2yTEqd"
   },
   "outputs": [],
   "source": [
    "# Create a branch for Department\n",
    "# with a hidden layer and an output layer\n",
    "\n",
    "# Create the hidden layer\n",
    "department_hidden = layers.Dense(32, activation = 'relu', name = 'department_hidden')(shared2)\n",
    "\n",
    "# Create the output layer\n",
    "department_output = layers.Dense(y_test_department.shape[1], activation = 'softmax', name = 'department_output')(department_hidden)\n"
   ]
  },
  {
   "cell_type": "code",
   "execution_count": 15,
   "metadata": {
    "id": "9OqhUiOJUBkR"
   },
   "outputs": [],
   "source": [
    "# Create a branch for Attrition\n",
    "# with a hidden layer and an output layer\n",
    "\n",
    "# Create the hidden layer\n",
    "attrition_hidden = layers.Dense(32, activation = 'relu', name = 'attrition_hidden')(shared2)\n",
    "\n",
    "# Create the output layer\n",
    "attrition_output = layers.Dense(y_test_attrition.shape[1], activation = 'sigmoid', name = 'attrition_output')(attrition_hidden)\n"
   ]
  },
  {
   "cell_type": "code",
   "execution_count": 16,
   "metadata": {
    "colab": {
     "base_uri": "https://localhost:8080/"
    },
    "id": "twmuejdxGc3T",
    "outputId": "25096308-b68b-42e4-e4ea-ae82e97c435a"
   },
   "outputs": [
    {
     "data": {
      "text/html": [
       "<pre style=\"white-space:pre;overflow-x:auto;line-height:normal;font-family:Menlo,'DejaVu Sans Mono',consolas,'Courier New',monospace\"><span style=\"font-weight: bold\">Model: \"functional\"</span>\n",
       "</pre>\n"
      ],
      "text/plain": [
       "\u001b[1mModel: \"functional\"\u001b[0m\n"
      ]
     },
     "metadata": {},
     "output_type": "display_data"
    },
    {
     "data": {
      "text/html": [
       "<pre style=\"white-space:pre;overflow-x:auto;line-height:normal;font-family:Menlo,'DejaVu Sans Mono',consolas,'Courier New',monospace\">┏━━━━━━━━━━━━━━━━━━━━━┳━━━━━━━━━━━━━━━━━━━┳━━━━━━━━━━━━┳━━━━━━━━━━━━━━━━━━━┓\n",
       "┃<span style=\"font-weight: bold\"> Layer (type)        </span>┃<span style=\"font-weight: bold\"> Output Shape      </span>┃<span style=\"font-weight: bold\">    Param # </span>┃<span style=\"font-weight: bold\"> Connected to      </span>┃\n",
       "┡━━━━━━━━━━━━━━━━━━━━━╇━━━━━━━━━━━━━━━━━━━╇━━━━━━━━━━━━╇━━━━━━━━━━━━━━━━━━━┩\n",
       "│ input (<span style=\"color: #0087ff; text-decoration-color: #0087ff\">InputLayer</span>)  │ (<span style=\"color: #00d7ff; text-decoration-color: #00d7ff\">None</span>, <span style=\"color: #00af00; text-decoration-color: #00af00\">10</span>)        │          <span style=\"color: #00af00; text-decoration-color: #00af00\">0</span> │ -                 │\n",
       "├─────────────────────┼───────────────────┼────────────┼───────────────────┤\n",
       "│ shared1 (<span style=\"color: #0087ff; text-decoration-color: #0087ff\">Dense</span>)     │ (<span style=\"color: #00d7ff; text-decoration-color: #00d7ff\">None</span>, <span style=\"color: #00af00; text-decoration-color: #00af00\">64</span>)        │        <span style=\"color: #00af00; text-decoration-color: #00af00\">704</span> │ input[<span style=\"color: #00af00; text-decoration-color: #00af00\">0</span>][<span style=\"color: #00af00; text-decoration-color: #00af00\">0</span>]       │\n",
       "├─────────────────────┼───────────────────┼────────────┼───────────────────┤\n",
       "│ shared2 (<span style=\"color: #0087ff; text-decoration-color: #0087ff\">Dense</span>)     │ (<span style=\"color: #00d7ff; text-decoration-color: #00d7ff\">None</span>, <span style=\"color: #00af00; text-decoration-color: #00af00\">128</span>)       │      <span style=\"color: #00af00; text-decoration-color: #00af00\">8,320</span> │ shared1[<span style=\"color: #00af00; text-decoration-color: #00af00\">0</span>][<span style=\"color: #00af00; text-decoration-color: #00af00\">0</span>]     │\n",
       "├─────────────────────┼───────────────────┼────────────┼───────────────────┤\n",
       "│ department_hidden   │ (<span style=\"color: #00d7ff; text-decoration-color: #00d7ff\">None</span>, <span style=\"color: #00af00; text-decoration-color: #00af00\">32</span>)        │      <span style=\"color: #00af00; text-decoration-color: #00af00\">4,128</span> │ shared2[<span style=\"color: #00af00; text-decoration-color: #00af00\">0</span>][<span style=\"color: #00af00; text-decoration-color: #00af00\">0</span>]     │\n",
       "│ (<span style=\"color: #0087ff; text-decoration-color: #0087ff\">Dense</span>)             │                   │            │                   │\n",
       "├─────────────────────┼───────────────────┼────────────┼───────────────────┤\n",
       "│ attrition_hidden    │ (<span style=\"color: #00d7ff; text-decoration-color: #00d7ff\">None</span>, <span style=\"color: #00af00; text-decoration-color: #00af00\">32</span>)        │      <span style=\"color: #00af00; text-decoration-color: #00af00\">4,128</span> │ shared2[<span style=\"color: #00af00; text-decoration-color: #00af00\">0</span>][<span style=\"color: #00af00; text-decoration-color: #00af00\">0</span>]     │\n",
       "│ (<span style=\"color: #0087ff; text-decoration-color: #0087ff\">Dense</span>)             │                   │            │                   │\n",
       "├─────────────────────┼───────────────────┼────────────┼───────────────────┤\n",
       "│ department_output   │ (<span style=\"color: #00d7ff; text-decoration-color: #00d7ff\">None</span>, <span style=\"color: #00af00; text-decoration-color: #00af00\">3</span>)         │         <span style=\"color: #00af00; text-decoration-color: #00af00\">99</span> │ department_hidde… │\n",
       "│ (<span style=\"color: #0087ff; text-decoration-color: #0087ff\">Dense</span>)             │                   │            │                   │\n",
       "├─────────────────────┼───────────────────┼────────────┼───────────────────┤\n",
       "│ attrition_output    │ (<span style=\"color: #00d7ff; text-decoration-color: #00d7ff\">None</span>, <span style=\"color: #00af00; text-decoration-color: #00af00\">2</span>)         │         <span style=\"color: #00af00; text-decoration-color: #00af00\">66</span> │ attrition_hidden… │\n",
       "│ (<span style=\"color: #0087ff; text-decoration-color: #0087ff\">Dense</span>)             │                   │            │                   │\n",
       "└─────────────────────┴───────────────────┴────────────┴───────────────────┘\n",
       "</pre>\n"
      ],
      "text/plain": [
       "┏━━━━━━━━━━━━━━━━━━━━━┳━━━━━━━━━━━━━━━━━━━┳━━━━━━━━━━━━┳━━━━━━━━━━━━━━━━━━━┓\n",
       "┃\u001b[1m \u001b[0m\u001b[1mLayer (type)       \u001b[0m\u001b[1m \u001b[0m┃\u001b[1m \u001b[0m\u001b[1mOutput Shape     \u001b[0m\u001b[1m \u001b[0m┃\u001b[1m \u001b[0m\u001b[1m   Param #\u001b[0m\u001b[1m \u001b[0m┃\u001b[1m \u001b[0m\u001b[1mConnected to     \u001b[0m\u001b[1m \u001b[0m┃\n",
       "┡━━━━━━━━━━━━━━━━━━━━━╇━━━━━━━━━━━━━━━━━━━╇━━━━━━━━━━━━╇━━━━━━━━━━━━━━━━━━━┩\n",
       "│ input (\u001b[38;5;33mInputLayer\u001b[0m)  │ (\u001b[38;5;45mNone\u001b[0m, \u001b[38;5;34m10\u001b[0m)        │          \u001b[38;5;34m0\u001b[0m │ -                 │\n",
       "├─────────────────────┼───────────────────┼────────────┼───────────────────┤\n",
       "│ shared1 (\u001b[38;5;33mDense\u001b[0m)     │ (\u001b[38;5;45mNone\u001b[0m, \u001b[38;5;34m64\u001b[0m)        │        \u001b[38;5;34m704\u001b[0m │ input[\u001b[38;5;34m0\u001b[0m][\u001b[38;5;34m0\u001b[0m]       │\n",
       "├─────────────────────┼───────────────────┼────────────┼───────────────────┤\n",
       "│ shared2 (\u001b[38;5;33mDense\u001b[0m)     │ (\u001b[38;5;45mNone\u001b[0m, \u001b[38;5;34m128\u001b[0m)       │      \u001b[38;5;34m8,320\u001b[0m │ shared1[\u001b[38;5;34m0\u001b[0m][\u001b[38;5;34m0\u001b[0m]     │\n",
       "├─────────────────────┼───────────────────┼────────────┼───────────────────┤\n",
       "│ department_hidden   │ (\u001b[38;5;45mNone\u001b[0m, \u001b[38;5;34m32\u001b[0m)        │      \u001b[38;5;34m4,128\u001b[0m │ shared2[\u001b[38;5;34m0\u001b[0m][\u001b[38;5;34m0\u001b[0m]     │\n",
       "│ (\u001b[38;5;33mDense\u001b[0m)             │                   │            │                   │\n",
       "├─────────────────────┼───────────────────┼────────────┼───────────────────┤\n",
       "│ attrition_hidden    │ (\u001b[38;5;45mNone\u001b[0m, \u001b[38;5;34m32\u001b[0m)        │      \u001b[38;5;34m4,128\u001b[0m │ shared2[\u001b[38;5;34m0\u001b[0m][\u001b[38;5;34m0\u001b[0m]     │\n",
       "│ (\u001b[38;5;33mDense\u001b[0m)             │                   │            │                   │\n",
       "├─────────────────────┼───────────────────┼────────────┼───────────────────┤\n",
       "│ department_output   │ (\u001b[38;5;45mNone\u001b[0m, \u001b[38;5;34m3\u001b[0m)         │         \u001b[38;5;34m99\u001b[0m │ department_hidde… │\n",
       "│ (\u001b[38;5;33mDense\u001b[0m)             │                   │            │                   │\n",
       "├─────────────────────┼───────────────────┼────────────┼───────────────────┤\n",
       "│ attrition_output    │ (\u001b[38;5;45mNone\u001b[0m, \u001b[38;5;34m2\u001b[0m)         │         \u001b[38;5;34m66\u001b[0m │ attrition_hidden… │\n",
       "│ (\u001b[38;5;33mDense\u001b[0m)             │                   │            │                   │\n",
       "└─────────────────────┴───────────────────┴────────────┴───────────────────┘\n"
      ]
     },
     "metadata": {},
     "output_type": "display_data"
    },
    {
     "data": {
      "text/html": [
       "<pre style=\"white-space:pre;overflow-x:auto;line-height:normal;font-family:Menlo,'DejaVu Sans Mono',consolas,'Courier New',monospace\"><span style=\"font-weight: bold\"> Total params: </span><span style=\"color: #00af00; text-decoration-color: #00af00\">17,445</span> (68.14 KB)\n",
       "</pre>\n"
      ],
      "text/plain": [
       "\u001b[1m Total params: \u001b[0m\u001b[38;5;34m17,445\u001b[0m (68.14 KB)\n"
      ]
     },
     "metadata": {},
     "output_type": "display_data"
    },
    {
     "data": {
      "text/html": [
       "<pre style=\"white-space:pre;overflow-x:auto;line-height:normal;font-family:Menlo,'DejaVu Sans Mono',consolas,'Courier New',monospace\"><span style=\"font-weight: bold\"> Trainable params: </span><span style=\"color: #00af00; text-decoration-color: #00af00\">17,445</span> (68.14 KB)\n",
       "</pre>\n"
      ],
      "text/plain": [
       "\u001b[1m Trainable params: \u001b[0m\u001b[38;5;34m17,445\u001b[0m (68.14 KB)\n"
      ]
     },
     "metadata": {},
     "output_type": "display_data"
    },
    {
     "data": {
      "text/html": [
       "<pre style=\"white-space:pre;overflow-x:auto;line-height:normal;font-family:Menlo,'DejaVu Sans Mono',consolas,'Courier New',monospace\"><span style=\"font-weight: bold\"> Non-trainable params: </span><span style=\"color: #00af00; text-decoration-color: #00af00\">0</span> (0.00 B)\n",
       "</pre>\n"
      ],
      "text/plain": [
       "\u001b[1m Non-trainable params: \u001b[0m\u001b[38;5;34m0\u001b[0m (0.00 B)\n"
      ]
     },
     "metadata": {},
     "output_type": "display_data"
    }
   ],
   "source": [
    "# Create the model\n",
    "model = Model(inputs = input_layer, outputs = [\n",
    "    department_output,\n",
    "    attrition_output\n",
    "])\n",
    "\n",
    "\n",
    "# Compile the model\n",
    "model.compile(optimizer = 'adam',\n",
    "              loss = {\n",
    "                  'department_output':'mse',\n",
    "                  'attrition_output':'mse'\n",
    "              },\n",
    "              metrics = {\n",
    "                  'department_output':['accuracy', 'mse'],\n",
    "                  'attrition_output':['accuracy', 'mse']\n",
    "              })\n",
    "\n",
    "# Summarize the model\n",
    "model.summary()"
   ]
  },
  {
   "cell_type": "code",
   "execution_count": 17,
   "metadata": {
    "colab": {
     "base_uri": "https://localhost:8080/"
    },
    "id": "c8oGy0dpGc3U",
    "outputId": "cc667d43-28cf-42d4-d719-c2bc02888d30"
   },
   "outputs": [
    {
     "name": "stdout",
     "output_type": "stream",
     "text": [
      "Epoch 1/100\n",
      "\u001b[1m28/28\u001b[0m \u001b[32m━━━━━━━━━━━━━━━━━━━━\u001b[0m\u001b[37m\u001b[0m \u001b[1m5s\u001b[0m 27ms/step - attrition_output_accuracy: 0.7459 - attrition_output_mse: 0.2132 - department_output_accuracy: 0.5603 - department_output_mse: 0.1925 - loss: 0.4057 - val_attrition_output_accuracy: 0.8235 - val_attrition_output_mse: 0.1499 - val_department_output_accuracy: 0.6471 - val_department_output_mse: 0.1634 - val_loss: 0.3132\n",
      "Epoch 2/100\n",
      "\u001b[1m28/28\u001b[0m \u001b[32m━━━━━━━━━━━━━━━━━━━━\u001b[0m\u001b[37m\u001b[0m \u001b[1m0s\u001b[0m 8ms/step - attrition_output_accuracy: 0.8616 - attrition_output_mse: 0.1266 - department_output_accuracy: 0.6281 - department_output_mse: 0.1670 - loss: 0.2936 - val_attrition_output_accuracy: 0.8235 - val_attrition_output_mse: 0.1417 - val_department_output_accuracy: 0.6471 - val_department_output_mse: 0.1621 - val_loss: 0.3038\n",
      "Epoch 3/100\n",
      "\u001b[1m28/28\u001b[0m \u001b[32m━━━━━━━━━━━━━━━━━━━━\u001b[0m\u001b[37m\u001b[0m \u001b[1m1s\u001b[0m 18ms/step - attrition_output_accuracy: 0.8610 - attrition_output_mse: 0.1131 - department_output_accuracy: 0.6070 - department_output_mse: 0.1691 - loss: 0.2822 - val_attrition_output_accuracy: 0.8235 - val_attrition_output_mse: 0.1320 - val_department_output_accuracy: 0.6471 - val_department_output_mse: 0.1632 - val_loss: 0.2951\n",
      "Epoch 4/100\n",
      "\u001b[1m28/28\u001b[0m \u001b[32m━━━━━━━━━━━━━━━━━━━━\u001b[0m\u001b[37m\u001b[0m \u001b[1m0s\u001b[0m 13ms/step - attrition_output_accuracy: 0.8523 - attrition_output_mse: 0.1089 - department_output_accuracy: 0.6581 - department_output_mse: 0.1531 - loss: 0.2619 - val_attrition_output_accuracy: 0.8371 - val_attrition_output_mse: 0.1283 - val_department_output_accuracy: 0.6471 - val_department_output_mse: 0.1590 - val_loss: 0.2874\n",
      "Epoch 5/100\n",
      "\u001b[1m28/28\u001b[0m \u001b[32m━━━━━━━━━━━━━━━━━━━━\u001b[0m\u001b[37m\u001b[0m \u001b[1m0s\u001b[0m 10ms/step - attrition_output_accuracy: 0.8684 - attrition_output_mse: 0.1028 - department_output_accuracy: 0.6541 - department_output_mse: 0.1500 - loss: 0.2529 - val_attrition_output_accuracy: 0.8416 - val_attrition_output_mse: 0.1270 - val_department_output_accuracy: 0.6471 - val_department_output_mse: 0.1591 - val_loss: 0.2862\n",
      "Epoch 6/100\n",
      "\u001b[1m28/28\u001b[0m \u001b[32m━━━━━━━━━━━━━━━━━━━━\u001b[0m\u001b[37m\u001b[0m \u001b[1m0s\u001b[0m 11ms/step - attrition_output_accuracy: 0.8628 - attrition_output_mse: 0.1041 - department_output_accuracy: 0.6547 - department_output_mse: 0.1494 - loss: 0.2535 - val_attrition_output_accuracy: 0.8552 - val_attrition_output_mse: 0.1249 - val_department_output_accuracy: 0.6516 - val_department_output_mse: 0.1584 - val_loss: 0.2832\n",
      "Epoch 7/100\n",
      "\u001b[1m28/28\u001b[0m \u001b[32m━━━━━━━━━━━━━━━━━━━━\u001b[0m\u001b[37m\u001b[0m \u001b[1m1s\u001b[0m 15ms/step - attrition_output_accuracy: 0.8752 - attrition_output_mse: 0.0977 - department_output_accuracy: 0.6676 - department_output_mse: 0.1478 - loss: 0.2455 - val_attrition_output_accuracy: 0.8462 - val_attrition_output_mse: 0.1238 - val_department_output_accuracy: 0.6425 - val_department_output_mse: 0.1583 - val_loss: 0.2820\n",
      "Epoch 8/100\n",
      "\u001b[1m28/28\u001b[0m \u001b[32m━━━━━━━━━━━━━━━━━━━━\u001b[0m\u001b[37m\u001b[0m \u001b[1m1s\u001b[0m 18ms/step - attrition_output_accuracy: 0.8631 - attrition_output_mse: 0.1024 - department_output_accuracy: 0.6572 - department_output_mse: 0.1465 - loss: 0.2489 - val_attrition_output_accuracy: 0.8416 - val_attrition_output_mse: 0.1229 - val_department_output_accuracy: 0.6471 - val_department_output_mse: 0.1588 - val_loss: 0.2818\n",
      "Epoch 9/100\n",
      "\u001b[1m28/28\u001b[0m \u001b[32m━━━━━━━━━━━━━━━━━━━━\u001b[0m\u001b[37m\u001b[0m \u001b[1m0s\u001b[0m 5ms/step - attrition_output_accuracy: 0.8898 - attrition_output_mse: 0.0858 - department_output_accuracy: 0.6734 - department_output_mse: 0.1422 - loss: 0.2280 - val_attrition_output_accuracy: 0.8371 - val_attrition_output_mse: 0.1229 - val_department_output_accuracy: 0.6516 - val_department_output_mse: 0.1574 - val_loss: 0.2803\n",
      "Epoch 10/100\n",
      "\u001b[1m28/28\u001b[0m \u001b[32m━━━━━━━━━━━━━━━━━━━━\u001b[0m\u001b[37m\u001b[0m \u001b[1m1s\u001b[0m 22ms/step - attrition_output_accuracy: 0.8756 - attrition_output_mse: 0.0878 - department_output_accuracy: 0.6852 - department_output_mse: 0.1445 - loss: 0.2323 - val_attrition_output_accuracy: 0.8462 - val_attrition_output_mse: 0.1230 - val_department_output_accuracy: 0.6471 - val_department_output_mse: 0.1572 - val_loss: 0.2802\n",
      "Epoch 11/100\n",
      "\u001b[1m28/28\u001b[0m \u001b[32m━━━━━━━━━━━━━━━━━━━━\u001b[0m\u001b[37m\u001b[0m \u001b[1m0s\u001b[0m 8ms/step - attrition_output_accuracy: 0.8877 - attrition_output_mse: 0.0867 - department_output_accuracy: 0.7169 - department_output_mse: 0.1395 - loss: 0.2261 - val_attrition_output_accuracy: 0.8416 - val_attrition_output_mse: 0.1230 - val_department_output_accuracy: 0.6380 - val_department_output_mse: 0.1591 - val_loss: 0.2821\n",
      "Epoch 12/100\n",
      "\u001b[1m28/28\u001b[0m \u001b[32m━━━━━━━━━━━━━━━━━━━━\u001b[0m\u001b[37m\u001b[0m \u001b[1m0s\u001b[0m 8ms/step - attrition_output_accuracy: 0.8745 - attrition_output_mse: 0.0880 - department_output_accuracy: 0.7036 - department_output_mse: 0.1449 - loss: 0.2329 - val_attrition_output_accuracy: 0.8416 - val_attrition_output_mse: 0.1230 - val_department_output_accuracy: 0.6471 - val_department_output_mse: 0.1605 - val_loss: 0.2835\n",
      "Epoch 13/100\n",
      "\u001b[1m28/28\u001b[0m \u001b[32m━━━━━━━━━━━━━━━━━━━━\u001b[0m\u001b[37m\u001b[0m \u001b[1m1s\u001b[0m 14ms/step - attrition_output_accuracy: 0.9077 - attrition_output_mse: 0.0782 - department_output_accuracy: 0.7281 - department_output_mse: 0.1300 - loss: 0.2081 - val_attrition_output_accuracy: 0.8326 - val_attrition_output_mse: 0.1253 - val_department_output_accuracy: 0.6425 - val_department_output_mse: 0.1592 - val_loss: 0.2846\n",
      "Epoch 14/100\n",
      "\u001b[1m28/28\u001b[0m \u001b[32m━━━━━━━━━━━━━━━━━━━━\u001b[0m\u001b[37m\u001b[0m \u001b[1m0s\u001b[0m 11ms/step - attrition_output_accuracy: 0.9124 - attrition_output_mse: 0.0765 - department_output_accuracy: 0.7449 - department_output_mse: 0.1216 - loss: 0.1981 - val_attrition_output_accuracy: 0.8371 - val_attrition_output_mse: 0.1256 - val_department_output_accuracy: 0.6199 - val_department_output_mse: 0.1622 - val_loss: 0.2878\n",
      "Epoch 15/100\n",
      "\u001b[1m28/28\u001b[0m \u001b[32m━━━━━━━━━━━━━━━━━━━━\u001b[0m\u001b[37m\u001b[0m \u001b[1m0s\u001b[0m 7ms/step - attrition_output_accuracy: 0.9139 - attrition_output_mse: 0.0695 - department_output_accuracy: 0.7750 - department_output_mse: 0.1207 - loss: 0.1902 - val_attrition_output_accuracy: 0.8235 - val_attrition_output_mse: 0.1277 - val_department_output_accuracy: 0.6425 - val_department_output_mse: 0.1621 - val_loss: 0.2898\n",
      "Epoch 16/100\n",
      "\u001b[1m28/28\u001b[0m \u001b[32m━━━━━━━━━━━━━━━━━━━━\u001b[0m\u001b[37m\u001b[0m \u001b[1m0s\u001b[0m 7ms/step - attrition_output_accuracy: 0.8993 - attrition_output_mse: 0.0842 - department_output_accuracy: 0.7556 - department_output_mse: 0.1237 - loss: 0.2079 - val_attrition_output_accuracy: 0.8235 - val_attrition_output_mse: 0.1271 - val_department_output_accuracy: 0.6471 - val_department_output_mse: 0.1618 - val_loss: 0.2888\n",
      "Epoch 17/100\n",
      "\u001b[1m28/28\u001b[0m \u001b[32m━━━━━━━━━━━━━━━━━━━━\u001b[0m\u001b[37m\u001b[0m \u001b[1m0s\u001b[0m 6ms/step - attrition_output_accuracy: 0.8915 - attrition_output_mse: 0.0831 - department_output_accuracy: 0.7490 - department_output_mse: 0.1252 - loss: 0.2083 - val_attrition_output_accuracy: 0.8371 - val_attrition_output_mse: 0.1268 - val_department_output_accuracy: 0.6244 - val_department_output_mse: 0.1646 - val_loss: 0.2914\n",
      "Epoch 18/100\n",
      "\u001b[1m28/28\u001b[0m \u001b[32m━━━━━━━━━━━━━━━━━━━━\u001b[0m\u001b[37m\u001b[0m \u001b[1m0s\u001b[0m 7ms/step - attrition_output_accuracy: 0.9081 - attrition_output_mse: 0.0795 - department_output_accuracy: 0.7527 - department_output_mse: 0.1208 - loss: 0.2003 - val_attrition_output_accuracy: 0.8190 - val_attrition_output_mse: 0.1306 - val_department_output_accuracy: 0.6425 - val_department_output_mse: 0.1637 - val_loss: 0.2944\n",
      "Epoch 19/100\n",
      "\u001b[1m28/28\u001b[0m \u001b[32m━━━━━━━━━━━━━━━━━━━━\u001b[0m\u001b[37m\u001b[0m \u001b[1m0s\u001b[0m 7ms/step - attrition_output_accuracy: 0.9152 - attrition_output_mse: 0.0741 - department_output_accuracy: 0.7862 - department_output_mse: 0.1115 - loss: 0.1856 - val_attrition_output_accuracy: 0.8190 - val_attrition_output_mse: 0.1329 - val_department_output_accuracy: 0.6425 - val_department_output_mse: 0.1659 - val_loss: 0.2988\n",
      "Epoch 20/100\n",
      "\u001b[1m28/28\u001b[0m \u001b[32m━━━━━━━━━━━━━━━━━━━━\u001b[0m\u001b[37m\u001b[0m \u001b[1m0s\u001b[0m 5ms/step - attrition_output_accuracy: 0.9094 - attrition_output_mse: 0.0751 - department_output_accuracy: 0.8003 - department_output_mse: 0.1068 - loss: 0.1819 - val_attrition_output_accuracy: 0.8281 - val_attrition_output_mse: 0.1290 - val_department_output_accuracy: 0.6199 - val_department_output_mse: 0.1681 - val_loss: 0.2972\n",
      "Epoch 21/100\n",
      "\u001b[1m28/28\u001b[0m \u001b[32m━━━━━━━━━━━━━━━━━━━━\u001b[0m\u001b[37m\u001b[0m \u001b[1m0s\u001b[0m 7ms/step - attrition_output_accuracy: 0.9238 - attrition_output_mse: 0.0739 - department_output_accuracy: 0.7899 - department_output_mse: 0.1041 - loss: 0.1780 - val_attrition_output_accuracy: 0.8416 - val_attrition_output_mse: 0.1290 - val_department_output_accuracy: 0.6199 - val_department_output_mse: 0.1700 - val_loss: 0.2989\n",
      "Epoch 22/100\n",
      "\u001b[1m28/28\u001b[0m \u001b[32m━━━━━━━━━━━━━━━━━━━━\u001b[0m\u001b[37m\u001b[0m \u001b[1m0s\u001b[0m 7ms/step - attrition_output_accuracy: 0.9181 - attrition_output_mse: 0.0756 - department_output_accuracy: 0.8069 - department_output_mse: 0.0985 - loss: 0.1741 - val_attrition_output_accuracy: 0.8235 - val_attrition_output_mse: 0.1326 - val_department_output_accuracy: 0.6290 - val_department_output_mse: 0.1683 - val_loss: 0.3009\n",
      "Epoch 23/100\n",
      "\u001b[1m28/28\u001b[0m \u001b[32m━━━━━━━━━━━━━━━━━━━━\u001b[0m\u001b[37m\u001b[0m \u001b[1m1s\u001b[0m 17ms/step - attrition_output_accuracy: 0.9188 - attrition_output_mse: 0.0697 - department_output_accuracy: 0.8260 - department_output_mse: 0.0955 - loss: 0.1653 - val_attrition_output_accuracy: 0.8326 - val_attrition_output_mse: 0.1308 - val_department_output_accuracy: 0.6425 - val_department_output_mse: 0.1693 - val_loss: 0.3000\n",
      "Epoch 24/100\n",
      "\u001b[1m28/28\u001b[0m \u001b[32m━━━━━━━━━━━━━━━━━━━━\u001b[0m\u001b[37m\u001b[0m \u001b[1m0s\u001b[0m 7ms/step - attrition_output_accuracy: 0.9346 - attrition_output_mse: 0.0567 - department_output_accuracy: 0.8148 - department_output_mse: 0.0975 - loss: 0.1542 - val_attrition_output_accuracy: 0.8281 - val_attrition_output_mse: 0.1317 - val_department_output_accuracy: 0.6199 - val_department_output_mse: 0.1740 - val_loss: 0.3056\n",
      "Epoch 25/100\n",
      "\u001b[1m28/28\u001b[0m \u001b[32m━━━━━━━━━━━━━━━━━━━━\u001b[0m\u001b[37m\u001b[0m \u001b[1m0s\u001b[0m 7ms/step - attrition_output_accuracy: 0.9311 - attrition_output_mse: 0.0647 - department_output_accuracy: 0.8293 - department_output_mse: 0.0985 - loss: 0.1632 - val_attrition_output_accuracy: 0.8281 - val_attrition_output_mse: 0.1313 - val_department_output_accuracy: 0.6335 - val_department_output_mse: 0.1768 - val_loss: 0.3080\n",
      "Epoch 26/100\n",
      "\u001b[1m28/28\u001b[0m \u001b[32m━━━━━━━━━━━━━━━━━━━━\u001b[0m\u001b[37m\u001b[0m \u001b[1m0s\u001b[0m 8ms/step - attrition_output_accuracy: 0.9207 - attrition_output_mse: 0.0673 - department_output_accuracy: 0.8237 - department_output_mse: 0.0966 - loss: 0.1638 - val_attrition_output_accuracy: 0.8371 - val_attrition_output_mse: 0.1348 - val_department_output_accuracy: 0.6425 - val_department_output_mse: 0.1787 - val_loss: 0.3135\n",
      "Epoch 27/100\n",
      "\u001b[1m28/28\u001b[0m \u001b[32m━━━━━━━━━━━━━━━━━━━━\u001b[0m\u001b[37m\u001b[0m \u001b[1m0s\u001b[0m 7ms/step - attrition_output_accuracy: 0.9336 - attrition_output_mse: 0.0575 - department_output_accuracy: 0.8195 - department_output_mse: 0.0922 - loss: 0.1496 - val_attrition_output_accuracy: 0.8371 - val_attrition_output_mse: 0.1321 - val_department_output_accuracy: 0.5656 - val_department_output_mse: 0.1872 - val_loss: 0.3193\n",
      "Epoch 28/100\n",
      "\u001b[1m28/28\u001b[0m \u001b[32m━━━━━━━━━━━━━━━━━━━━\u001b[0m\u001b[37m\u001b[0m \u001b[1m0s\u001b[0m 7ms/step - attrition_output_accuracy: 0.9336 - attrition_output_mse: 0.0597 - department_output_accuracy: 0.7929 - department_output_mse: 0.1049 - loss: 0.1646 - val_attrition_output_accuracy: 0.8326 - val_attrition_output_mse: 0.1362 - val_department_output_accuracy: 0.6290 - val_department_output_mse: 0.1763 - val_loss: 0.3125\n",
      "Epoch 29/100\n",
      "\u001b[1m28/28\u001b[0m \u001b[32m━━━━━━━━━━━━━━━━━━━━\u001b[0m\u001b[37m\u001b[0m \u001b[1m0s\u001b[0m 7ms/step - attrition_output_accuracy: 0.9419 - attrition_output_mse: 0.0543 - department_output_accuracy: 0.8389 - department_output_mse: 0.0917 - loss: 0.1459 - val_attrition_output_accuracy: 0.8235 - val_attrition_output_mse: 0.1313 - val_department_output_accuracy: 0.6063 - val_department_output_mse: 0.1764 - val_loss: 0.3077\n",
      "Epoch 30/100\n",
      "\u001b[1m28/28\u001b[0m \u001b[32m━━━━━━━━━━━━━━━━━━━━\u001b[0m\u001b[37m\u001b[0m \u001b[1m0s\u001b[0m 10ms/step - attrition_output_accuracy: 0.9536 - attrition_output_mse: 0.0481 - department_output_accuracy: 0.8699 - department_output_mse: 0.0754 - loss: 0.1234 - val_attrition_output_accuracy: 0.7964 - val_attrition_output_mse: 0.1459 - val_department_output_accuracy: 0.6109 - val_department_output_mse: 0.1795 - val_loss: 0.3254\n",
      "Epoch 31/100\n",
      "\u001b[1m28/28\u001b[0m \u001b[32m━━━━━━━━━━━━━━━━━━━━\u001b[0m\u001b[37m\u001b[0m \u001b[1m0s\u001b[0m 7ms/step - attrition_output_accuracy: 0.9419 - attrition_output_mse: 0.0521 - department_output_accuracy: 0.8629 - department_output_mse: 0.0836 - loss: 0.1357 - val_attrition_output_accuracy: 0.8190 - val_attrition_output_mse: 0.1370 - val_department_output_accuracy: 0.6244 - val_department_output_mse: 0.1806 - val_loss: 0.3176\n",
      "Epoch 32/100\n",
      "\u001b[1m28/28\u001b[0m \u001b[32m━━━━━━━━━━━━━━━━━━━━\u001b[0m\u001b[37m\u001b[0m \u001b[1m0s\u001b[0m 8ms/step - attrition_output_accuracy: 0.9507 - attrition_output_mse: 0.0471 - department_output_accuracy: 0.8800 - department_output_mse: 0.0760 - loss: 0.1231 - val_attrition_output_accuracy: 0.8235 - val_attrition_output_mse: 0.1388 - val_department_output_accuracy: 0.6380 - val_department_output_mse: 0.1808 - val_loss: 0.3196\n",
      "Epoch 33/100\n",
      "\u001b[1m28/28\u001b[0m \u001b[32m━━━━━━━━━━━━━━━━━━━━\u001b[0m\u001b[37m\u001b[0m \u001b[1m0s\u001b[0m 9ms/step - attrition_output_accuracy: 0.9425 - attrition_output_mse: 0.0467 - department_output_accuracy: 0.8619 - department_output_mse: 0.0787 - loss: 0.1254 - val_attrition_output_accuracy: 0.8235 - val_attrition_output_mse: 0.1364 - val_department_output_accuracy: 0.6380 - val_department_output_mse: 0.1789 - val_loss: 0.3153\n",
      "Epoch 34/100\n",
      "\u001b[1m28/28\u001b[0m \u001b[32m━━━━━━━━━━━━━━━━━━━━\u001b[0m\u001b[37m\u001b[0m \u001b[1m1s\u001b[0m 6ms/step - attrition_output_accuracy: 0.9583 - attrition_output_mse: 0.0374 - department_output_accuracy: 0.8843 - department_output_mse: 0.0755 - loss: 0.1130 - val_attrition_output_accuracy: 0.8235 - val_attrition_output_mse: 0.1403 - val_department_output_accuracy: 0.6063 - val_department_output_mse: 0.1812 - val_loss: 0.3215\n",
      "Epoch 35/100\n",
      "\u001b[1m28/28\u001b[0m \u001b[32m━━━━━━━━━━━━━━━━━━━━\u001b[0m\u001b[37m\u001b[0m \u001b[1m0s\u001b[0m 8ms/step - attrition_output_accuracy: 0.9476 - attrition_output_mse: 0.0485 - department_output_accuracy: 0.8965 - department_output_mse: 0.0688 - loss: 0.1173 - val_attrition_output_accuracy: 0.8235 - val_attrition_output_mse: 0.1415 - val_department_output_accuracy: 0.6290 - val_department_output_mse: 0.1828 - val_loss: 0.3243\n",
      "Epoch 36/100\n",
      "\u001b[1m28/28\u001b[0m \u001b[32m━━━━━━━━━━━━━━━━━━━━\u001b[0m\u001b[37m\u001b[0m \u001b[1m0s\u001b[0m 9ms/step - attrition_output_accuracy: 0.9386 - attrition_output_mse: 0.0540 - department_output_accuracy: 0.8920 - department_output_mse: 0.0696 - loss: 0.1236 - val_attrition_output_accuracy: 0.8190 - val_attrition_output_mse: 0.1404 - val_department_output_accuracy: 0.6290 - val_department_output_mse: 0.1853 - val_loss: 0.3257\n",
      "Epoch 37/100\n",
      "\u001b[1m28/28\u001b[0m \u001b[32m━━━━━━━━━━━━━━━━━━━━\u001b[0m\u001b[37m\u001b[0m \u001b[1m1s\u001b[0m 10ms/step - attrition_output_accuracy: 0.9568 - attrition_output_mse: 0.0440 - department_output_accuracy: 0.9048 - department_output_mse: 0.0624 - loss: 0.1065 - val_attrition_output_accuracy: 0.8054 - val_attrition_output_mse: 0.1514 - val_department_output_accuracy: 0.6290 - val_department_output_mse: 0.1883 - val_loss: 0.3397\n",
      "Epoch 38/100\n",
      "\u001b[1m28/28\u001b[0m \u001b[32m━━━━━━━━━━━━━━━━━━━━\u001b[0m\u001b[37m\u001b[0m \u001b[1m0s\u001b[0m 6ms/step - attrition_output_accuracy: 0.9609 - attrition_output_mse: 0.0404 - department_output_accuracy: 0.8927 - department_output_mse: 0.0654 - loss: 0.1057 - val_attrition_output_accuracy: 0.7828 - val_attrition_output_mse: 0.1548 - val_department_output_accuracy: 0.6471 - val_department_output_mse: 0.1839 - val_loss: 0.3387\n",
      "Epoch 39/100\n",
      "\u001b[1m28/28\u001b[0m \u001b[32m━━━━━━━━━━━━━━━━━━━━\u001b[0m\u001b[37m\u001b[0m \u001b[1m1s\u001b[0m 17ms/step - attrition_output_accuracy: 0.9625 - attrition_output_mse: 0.0362 - department_output_accuracy: 0.9048 - department_output_mse: 0.0642 - loss: 0.1004 - val_attrition_output_accuracy: 0.8054 - val_attrition_output_mse: 0.1508 - val_department_output_accuracy: 0.6335 - val_department_output_mse: 0.1861 - val_loss: 0.3368\n",
      "Epoch 40/100\n",
      "\u001b[1m28/28\u001b[0m \u001b[32m━━━━━━━━━━━━━━━━━━━━\u001b[0m\u001b[37m\u001b[0m \u001b[1m0s\u001b[0m 6ms/step - attrition_output_accuracy: 0.9615 - attrition_output_mse: 0.0411 - department_output_accuracy: 0.8963 - department_output_mse: 0.0616 - loss: 0.1026 - val_attrition_output_accuracy: 0.7828 - val_attrition_output_mse: 0.1596 - val_department_output_accuracy: 0.6335 - val_department_output_mse: 0.1904 - val_loss: 0.3500\n",
      "Epoch 41/100\n",
      "\u001b[1m28/28\u001b[0m \u001b[32m━━━━━━━━━━━━━━━━━━━━\u001b[0m\u001b[37m\u001b[0m \u001b[1m0s\u001b[0m 7ms/step - attrition_output_accuracy: 0.9583 - attrition_output_mse: 0.0367 - department_output_accuracy: 0.9193 - department_output_mse: 0.0547 - loss: 0.0914 - val_attrition_output_accuracy: 0.8145 - val_attrition_output_mse: 0.1513 - val_department_output_accuracy: 0.6380 - val_department_output_mse: 0.1871 - val_loss: 0.3384\n",
      "Epoch 42/100\n",
      "\u001b[1m28/28\u001b[0m \u001b[32m━━━━━━━━━━━━━━━━━━━━\u001b[0m\u001b[37m\u001b[0m \u001b[1m0s\u001b[0m 5ms/step - attrition_output_accuracy: 0.9659 - attrition_output_mse: 0.0311 - department_output_accuracy: 0.9125 - department_output_mse: 0.0604 - loss: 0.0915 - val_attrition_output_accuracy: 0.7783 - val_attrition_output_mse: 0.1608 - val_department_output_accuracy: 0.6109 - val_department_output_mse: 0.1922 - val_loss: 0.3530\n",
      "Epoch 43/100\n",
      "\u001b[1m28/28\u001b[0m \u001b[32m━━━━━━━━━━━━━━━━━━━━\u001b[0m\u001b[37m\u001b[0m \u001b[1m0s\u001b[0m 5ms/step - attrition_output_accuracy: 0.9690 - attrition_output_mse: 0.0332 - department_output_accuracy: 0.9311 - department_output_mse: 0.0494 - loss: 0.0826 - val_attrition_output_accuracy: 0.8100 - val_attrition_output_mse: 0.1488 - val_department_output_accuracy: 0.6290 - val_department_output_mse: 0.1928 - val_loss: 0.3416\n",
      "Epoch 44/100\n",
      "\u001b[1m28/28\u001b[0m \u001b[32m━━━━━━━━━━━━━━━━━━━━\u001b[0m\u001b[37m\u001b[0m \u001b[1m0s\u001b[0m 6ms/step - attrition_output_accuracy: 0.9633 - attrition_output_mse: 0.0342 - department_output_accuracy: 0.9208 - department_output_mse: 0.0506 - loss: 0.0849 - val_attrition_output_accuracy: 0.8009 - val_attrition_output_mse: 0.1536 - val_department_output_accuracy: 0.6199 - val_department_output_mse: 0.1994 - val_loss: 0.3530\n",
      "Epoch 45/100\n",
      "\u001b[1m28/28\u001b[0m \u001b[32m━━━━━━━━━━━━━━━━━━━━\u001b[0m\u001b[37m\u001b[0m \u001b[1m0s\u001b[0m 7ms/step - attrition_output_accuracy: 0.9730 - attrition_output_mse: 0.0271 - department_output_accuracy: 0.9194 - department_output_mse: 0.0512 - loss: 0.0783 - val_attrition_output_accuracy: 0.7873 - val_attrition_output_mse: 0.1616 - val_department_output_accuracy: 0.6380 - val_department_output_mse: 0.1890 - val_loss: 0.3506\n",
      "Epoch 46/100\n",
      "\u001b[1m28/28\u001b[0m \u001b[32m━━━━━━━━━━━━━━━━━━━━\u001b[0m\u001b[37m\u001b[0m \u001b[1m0s\u001b[0m 7ms/step - attrition_output_accuracy: 0.9700 - attrition_output_mse: 0.0305 - department_output_accuracy: 0.9309 - department_output_mse: 0.0482 - loss: 0.0787 - val_attrition_output_accuracy: 0.7919 - val_attrition_output_mse: 0.1624 - val_department_output_accuracy: 0.5973 - val_department_output_mse: 0.1971 - val_loss: 0.3594\n",
      "Epoch 47/100\n",
      "\u001b[1m28/28\u001b[0m \u001b[32m━━━━━━━━━━━━━━━━━━━━\u001b[0m\u001b[37m\u001b[0m \u001b[1m0s\u001b[0m 5ms/step - attrition_output_accuracy: 0.9671 - attrition_output_mse: 0.0302 - department_output_accuracy: 0.9219 - department_output_mse: 0.0514 - loss: 0.0816 - val_attrition_output_accuracy: 0.8326 - val_attrition_output_mse: 0.1504 - val_department_output_accuracy: 0.6290 - val_department_output_mse: 0.1954 - val_loss: 0.3458\n",
      "Epoch 48/100\n",
      "\u001b[1m28/28\u001b[0m \u001b[32m━━━━━━━━━━━━━━━━━━━━\u001b[0m\u001b[37m\u001b[0m \u001b[1m0s\u001b[0m 7ms/step - attrition_output_accuracy: 0.9672 - attrition_output_mse: 0.0283 - department_output_accuracy: 0.9249 - department_output_mse: 0.0484 - loss: 0.0767 - val_attrition_output_accuracy: 0.7828 - val_attrition_output_mse: 0.1688 - val_department_output_accuracy: 0.6244 - val_department_output_mse: 0.1990 - val_loss: 0.3678\n",
      "Epoch 49/100\n",
      "\u001b[1m28/28\u001b[0m \u001b[32m━━━━━━━━━━━━━━━━━━━━\u001b[0m\u001b[37m\u001b[0m \u001b[1m0s\u001b[0m 7ms/step - attrition_output_accuracy: 0.9751 - attrition_output_mse: 0.0267 - department_output_accuracy: 0.9335 - department_output_mse: 0.0464 - loss: 0.0731 - val_attrition_output_accuracy: 0.8009 - val_attrition_output_mse: 0.1623 - val_department_output_accuracy: 0.6290 - val_department_output_mse: 0.1975 - val_loss: 0.3599\n",
      "Epoch 50/100\n",
      "\u001b[1m28/28\u001b[0m \u001b[32m━━━━━━━━━━━━━━━━━━━━\u001b[0m\u001b[37m\u001b[0m \u001b[1m0s\u001b[0m 14ms/step - attrition_output_accuracy: 0.9824 - attrition_output_mse: 0.0200 - department_output_accuracy: 0.9202 - department_output_mse: 0.0528 - loss: 0.0728 - val_attrition_output_accuracy: 0.7873 - val_attrition_output_mse: 0.1723 - val_department_output_accuracy: 0.6199 - val_department_output_mse: 0.1996 - val_loss: 0.3720\n",
      "Epoch 51/100\n",
      "\u001b[1m28/28\u001b[0m \u001b[32m━━━━━━━━━━━━━━━━━━━━\u001b[0m\u001b[37m\u001b[0m \u001b[1m0s\u001b[0m 7ms/step - attrition_output_accuracy: 0.9874 - attrition_output_mse: 0.0190 - department_output_accuracy: 0.9384 - department_output_mse: 0.0430 - loss: 0.0621 - val_attrition_output_accuracy: 0.7873 - val_attrition_output_mse: 0.1656 - val_department_output_accuracy: 0.6154 - val_department_output_mse: 0.1956 - val_loss: 0.3611\n",
      "Epoch 52/100\n",
      "\u001b[1m28/28\u001b[0m \u001b[32m━━━━━━━━━━━━━━━━━━━━\u001b[0m\u001b[37m\u001b[0m \u001b[1m0s\u001b[0m 11ms/step - attrition_output_accuracy: 0.9814 - attrition_output_mse: 0.0198 - department_output_accuracy: 0.9422 - department_output_mse: 0.0437 - loss: 0.0635 - val_attrition_output_accuracy: 0.8100 - val_attrition_output_mse: 0.1530 - val_department_output_accuracy: 0.6199 - val_department_output_mse: 0.2005 - val_loss: 0.3535\n",
      "Epoch 53/100\n",
      "\u001b[1m28/28\u001b[0m \u001b[32m━━━━━━━━━━━━━━━━━━━━\u001b[0m\u001b[37m\u001b[0m \u001b[1m1s\u001b[0m 7ms/step - attrition_output_accuracy: 0.9827 - attrition_output_mse: 0.0215 - department_output_accuracy: 0.9342 - department_output_mse: 0.0446 - loss: 0.0661 - val_attrition_output_accuracy: 0.8100 - val_attrition_output_mse: 0.1572 - val_department_output_accuracy: 0.6109 - val_department_output_mse: 0.2000 - val_loss: 0.3572\n",
      "Epoch 54/100\n",
      "\u001b[1m28/28\u001b[0m \u001b[32m━━━━━━━━━━━━━━━━━━━━\u001b[0m\u001b[37m\u001b[0m \u001b[1m0s\u001b[0m 7ms/step - attrition_output_accuracy: 0.9869 - attrition_output_mse: 0.0174 - department_output_accuracy: 0.9560 - department_output_mse: 0.0344 - loss: 0.0518 - val_attrition_output_accuracy: 0.8054 - val_attrition_output_mse: 0.1565 - val_department_output_accuracy: 0.6199 - val_department_output_mse: 0.1996 - val_loss: 0.3561\n",
      "Epoch 55/100\n",
      "\u001b[1m28/28\u001b[0m \u001b[32m━━━━━━━━━━━━━━━━━━━━\u001b[0m\u001b[37m\u001b[0m \u001b[1m0s\u001b[0m 7ms/step - attrition_output_accuracy: 0.9808 - attrition_output_mse: 0.0206 - department_output_accuracy: 0.9356 - department_output_mse: 0.0414 - loss: 0.0621 - val_attrition_output_accuracy: 0.7919 - val_attrition_output_mse: 0.1658 - val_department_output_accuracy: 0.6380 - val_department_output_mse: 0.1966 - val_loss: 0.3623\n",
      "Epoch 56/100\n",
      "\u001b[1m28/28\u001b[0m \u001b[32m━━━━━━━━━━━━━━━━━━━━\u001b[0m\u001b[37m\u001b[0m \u001b[1m1s\u001b[0m 17ms/step - attrition_output_accuracy: 0.9878 - attrition_output_mse: 0.0166 - department_output_accuracy: 0.9513 - department_output_mse: 0.0339 - loss: 0.0505 - val_attrition_output_accuracy: 0.7919 - val_attrition_output_mse: 0.1637 - val_department_output_accuracy: 0.6244 - val_department_output_mse: 0.1979 - val_loss: 0.3615\n",
      "Epoch 57/100\n",
      "\u001b[1m28/28\u001b[0m \u001b[32m━━━━━━━━━━━━━━━━━━━━\u001b[0m\u001b[37m\u001b[0m \u001b[1m0s\u001b[0m 7ms/step - attrition_output_accuracy: 0.9833 - attrition_output_mse: 0.0190 - department_output_accuracy: 0.9461 - department_output_mse: 0.0369 - loss: 0.0558 - val_attrition_output_accuracy: 0.8009 - val_attrition_output_mse: 0.1622 - val_department_output_accuracy: 0.6516 - val_department_output_mse: 0.1960 - val_loss: 0.3582\n",
      "Epoch 58/100\n",
      "\u001b[1m28/28\u001b[0m \u001b[32m━━━━━━━━━━━━━━━━━━━━\u001b[0m\u001b[37m\u001b[0m \u001b[1m0s\u001b[0m 5ms/step - attrition_output_accuracy: 0.9913 - attrition_output_mse: 0.0133 - department_output_accuracy: 0.9517 - department_output_mse: 0.0325 - loss: 0.0458 - val_attrition_output_accuracy: 0.8009 - val_attrition_output_mse: 0.1640 - val_department_output_accuracy: 0.6290 - val_department_output_mse: 0.2033 - val_loss: 0.3673\n",
      "Epoch 59/100\n",
      "\u001b[1m28/28\u001b[0m \u001b[32m━━━━━━━━━━━━━━━━━━━━\u001b[0m\u001b[37m\u001b[0m \u001b[1m0s\u001b[0m 5ms/step - attrition_output_accuracy: 0.9869 - attrition_output_mse: 0.0180 - department_output_accuracy: 0.9528 - department_output_mse: 0.0344 - loss: 0.0524 - val_attrition_output_accuracy: 0.8054 - val_attrition_output_mse: 0.1595 - val_department_output_accuracy: 0.6380 - val_department_output_mse: 0.1996 - val_loss: 0.3591\n",
      "Epoch 60/100\n",
      "\u001b[1m28/28\u001b[0m \u001b[32m━━━━━━━━━━━━━━━━━━━━\u001b[0m\u001b[37m\u001b[0m \u001b[1m0s\u001b[0m 6ms/step - attrition_output_accuracy: 0.9864 - attrition_output_mse: 0.0163 - department_output_accuracy: 0.9525 - department_output_mse: 0.0334 - loss: 0.0497 - val_attrition_output_accuracy: 0.8009 - val_attrition_output_mse: 0.1679 - val_department_output_accuracy: 0.6244 - val_department_output_mse: 0.2027 - val_loss: 0.3706\n",
      "Epoch 61/100\n",
      "\u001b[1m28/28\u001b[0m \u001b[32m━━━━━━━━━━━━━━━━━━━━\u001b[0m\u001b[37m\u001b[0m \u001b[1m0s\u001b[0m 7ms/step - attrition_output_accuracy: 0.9858 - attrition_output_mse: 0.0194 - department_output_accuracy: 0.9592 - department_output_mse: 0.0292 - loss: 0.0486 - val_attrition_output_accuracy: 0.8100 - val_attrition_output_mse: 0.1654 - val_department_output_accuracy: 0.6154 - val_department_output_mse: 0.2018 - val_loss: 0.3673\n",
      "Epoch 62/100\n",
      "\u001b[1m28/28\u001b[0m \u001b[32m━━━━━━━━━━━━━━━━━━━━\u001b[0m\u001b[37m\u001b[0m \u001b[1m0s\u001b[0m 5ms/step - attrition_output_accuracy: 0.9839 - attrition_output_mse: 0.0194 - department_output_accuracy: 0.9461 - department_output_mse: 0.0347 - loss: 0.0541 - val_attrition_output_accuracy: 0.8054 - val_attrition_output_mse: 0.1632 - val_department_output_accuracy: 0.6199 - val_department_output_mse: 0.2062 - val_loss: 0.3694\n",
      "Epoch 63/100\n",
      "\u001b[1m28/28\u001b[0m \u001b[32m━━━━━━━━━━━━━━━━━━━━\u001b[0m\u001b[37m\u001b[0m \u001b[1m0s\u001b[0m 6ms/step - attrition_output_accuracy: 0.9818 - attrition_output_mse: 0.0181 - department_output_accuracy: 0.9510 - department_output_mse: 0.0357 - loss: 0.0538 - val_attrition_output_accuracy: 0.7919 - val_attrition_output_mse: 0.1679 - val_department_output_accuracy: 0.6154 - val_department_output_mse: 0.2063 - val_loss: 0.3742\n",
      "Epoch 64/100\n",
      "\u001b[1m28/28\u001b[0m \u001b[32m━━━━━━━━━━━━━━━━━━━━\u001b[0m\u001b[37m\u001b[0m \u001b[1m0s\u001b[0m 6ms/step - attrition_output_accuracy: 0.9904 - attrition_output_mse: 0.0131 - department_output_accuracy: 0.9649 - department_output_mse: 0.0270 - loss: 0.0401 - val_attrition_output_accuracy: 0.8054 - val_attrition_output_mse: 0.1639 - val_department_output_accuracy: 0.6290 - val_department_output_mse: 0.2043 - val_loss: 0.3681\n",
      "Epoch 65/100\n",
      "\u001b[1m28/28\u001b[0m \u001b[32m━━━━━━━━━━━━━━━━━━━━\u001b[0m\u001b[37m\u001b[0m \u001b[1m0s\u001b[0m 8ms/step - attrition_output_accuracy: 0.9925 - attrition_output_mse: 0.0111 - department_output_accuracy: 0.9667 - department_output_mse: 0.0248 - loss: 0.0360 - val_attrition_output_accuracy: 0.7964 - val_attrition_output_mse: 0.1618 - val_department_output_accuracy: 0.6335 - val_department_output_mse: 0.2017 - val_loss: 0.3635\n",
      "Epoch 66/100\n",
      "\u001b[1m28/28\u001b[0m \u001b[32m━━━━━━━━━━━━━━━━━━━━\u001b[0m\u001b[37m\u001b[0m \u001b[1m0s\u001b[0m 6ms/step - attrition_output_accuracy: 0.9891 - attrition_output_mse: 0.0140 - department_output_accuracy: 0.9693 - department_output_mse: 0.0238 - loss: 0.0378 - val_attrition_output_accuracy: 0.7964 - val_attrition_output_mse: 0.1679 - val_department_output_accuracy: 0.6199 - val_department_output_mse: 0.2085 - val_loss: 0.3764\n",
      "Epoch 67/100\n",
      "\u001b[1m28/28\u001b[0m \u001b[32m━━━━━━━━━━━━━━━━━━━━\u001b[0m\u001b[37m\u001b[0m \u001b[1m0s\u001b[0m 6ms/step - attrition_output_accuracy: 0.9877 - attrition_output_mse: 0.0149 - department_output_accuracy: 0.9658 - department_output_mse: 0.0254 - loss: 0.0402 - val_attrition_output_accuracy: 0.7919 - val_attrition_output_mse: 0.1686 - val_department_output_accuracy: 0.6290 - val_department_output_mse: 0.2054 - val_loss: 0.3740\n",
      "Epoch 68/100\n",
      "\u001b[1m28/28\u001b[0m \u001b[32m━━━━━━━━━━━━━━━━━━━━\u001b[0m\u001b[37m\u001b[0m \u001b[1m0s\u001b[0m 7ms/step - attrition_output_accuracy: 0.9867 - attrition_output_mse: 0.0145 - department_output_accuracy: 0.9575 - department_output_mse: 0.0290 - loss: 0.0435 - val_attrition_output_accuracy: 0.8009 - val_attrition_output_mse: 0.1680 - val_department_output_accuracy: 0.6471 - val_department_output_mse: 0.2043 - val_loss: 0.3723\n",
      "Epoch 69/100\n",
      "\u001b[1m28/28\u001b[0m \u001b[32m━━━━━━━━━━━━━━━━━━━━\u001b[0m\u001b[37m\u001b[0m \u001b[1m0s\u001b[0m 8ms/step - attrition_output_accuracy: 0.9918 - attrition_output_mse: 0.0101 - department_output_accuracy: 0.9653 - department_output_mse: 0.0227 - loss: 0.0328 - val_attrition_output_accuracy: 0.7828 - val_attrition_output_mse: 0.1784 - val_department_output_accuracy: 0.6335 - val_department_output_mse: 0.2086 - val_loss: 0.3870\n",
      "Epoch 70/100\n",
      "\u001b[1m28/28\u001b[0m \u001b[32m━━━━━━━━━━━━━━━━━━━━\u001b[0m\u001b[37m\u001b[0m \u001b[1m0s\u001b[0m 11ms/step - attrition_output_accuracy: 0.9775 - attrition_output_mse: 0.0228 - department_output_accuracy: 0.9685 - department_output_mse: 0.0234 - loss: 0.0462 - val_attrition_output_accuracy: 0.7919 - val_attrition_output_mse: 0.1755 - val_department_output_accuracy: 0.6425 - val_department_output_mse: 0.2059 - val_loss: 0.3814\n",
      "Epoch 71/100\n",
      "\u001b[1m28/28\u001b[0m \u001b[32m━━━━━━━━━━━━━━━━━━━━\u001b[0m\u001b[37m\u001b[0m \u001b[1m0s\u001b[0m 6ms/step - attrition_output_accuracy: 0.9877 - attrition_output_mse: 0.0151 - department_output_accuracy: 0.9549 - department_output_mse: 0.0280 - loss: 0.0431 - val_attrition_output_accuracy: 0.7964 - val_attrition_output_mse: 0.1701 - val_department_output_accuracy: 0.6380 - val_department_output_mse: 0.2087 - val_loss: 0.3788\n",
      "Epoch 72/100\n",
      "\u001b[1m28/28\u001b[0m \u001b[32m━━━━━━━━━━━━━━━━━━━━\u001b[0m\u001b[37m\u001b[0m \u001b[1m0s\u001b[0m 6ms/step - attrition_output_accuracy: 0.9919 - attrition_output_mse: 0.0107 - department_output_accuracy: 0.9668 - department_output_mse: 0.0235 - loss: 0.0341 - val_attrition_output_accuracy: 0.7828 - val_attrition_output_mse: 0.1830 - val_department_output_accuracy: 0.6290 - val_department_output_mse: 0.2071 - val_loss: 0.3901\n",
      "Epoch 73/100\n",
      "\u001b[1m28/28\u001b[0m \u001b[32m━━━━━━━━━━━━━━━━━━━━\u001b[0m\u001b[37m\u001b[0m \u001b[1m1s\u001b[0m 27ms/step - attrition_output_accuracy: 0.9915 - attrition_output_mse: 0.0105 - department_output_accuracy: 0.9643 - department_output_mse: 0.0241 - loss: 0.0346 - val_attrition_output_accuracy: 0.8009 - val_attrition_output_mse: 0.1674 - val_department_output_accuracy: 0.6471 - val_department_output_mse: 0.2060 - val_loss: 0.3734\n",
      "Epoch 74/100\n",
      "\u001b[1m28/28\u001b[0m \u001b[32m━━━━━━━━━━━━━━━━━━━━\u001b[0m\u001b[37m\u001b[0m \u001b[1m1s\u001b[0m 22ms/step - attrition_output_accuracy: 0.9924 - attrition_output_mse: 0.0094 - department_output_accuracy: 0.9750 - department_output_mse: 0.0190 - loss: 0.0285 - val_attrition_output_accuracy: 0.7919 - val_attrition_output_mse: 0.1727 - val_department_output_accuracy: 0.6380 - val_department_output_mse: 0.2084 - val_loss: 0.3811\n",
      "Epoch 75/100\n",
      "\u001b[1m28/28\u001b[0m \u001b[32m━━━━━━━━━━━━━━━━━━━━\u001b[0m\u001b[37m\u001b[0m \u001b[1m0s\u001b[0m 10ms/step - attrition_output_accuracy: 0.9892 - attrition_output_mse: 0.0118 - department_output_accuracy: 0.9701 - department_output_mse: 0.0215 - loss: 0.0333 - val_attrition_output_accuracy: 0.7919 - val_attrition_output_mse: 0.1734 - val_department_output_accuracy: 0.6109 - val_department_output_mse: 0.2124 - val_loss: 0.3858\n",
      "Epoch 76/100\n",
      "\u001b[1m28/28\u001b[0m \u001b[32m━━━━━━━━━━━━━━━━━━━━\u001b[0m\u001b[37m\u001b[0m \u001b[1m0s\u001b[0m 8ms/step - attrition_output_accuracy: 0.9926 - attrition_output_mse: 0.0096 - department_output_accuracy: 0.9700 - department_output_mse: 0.0222 - loss: 0.0318 - val_attrition_output_accuracy: 0.7919 - val_attrition_output_mse: 0.1730 - val_department_output_accuracy: 0.6290 - val_department_output_mse: 0.2129 - val_loss: 0.3860\n",
      "Epoch 77/100\n",
      "\u001b[1m28/28\u001b[0m \u001b[32m━━━━━━━━━━━━━━━━━━━━\u001b[0m\u001b[37m\u001b[0m \u001b[1m0s\u001b[0m 12ms/step - attrition_output_accuracy: 0.9846 - attrition_output_mse: 0.0167 - department_output_accuracy: 0.9730 - department_output_mse: 0.0195 - loss: 0.0362 - val_attrition_output_accuracy: 0.7919 - val_attrition_output_mse: 0.1703 - val_department_output_accuracy: 0.6199 - val_department_output_mse: 0.2087 - val_loss: 0.3789\n",
      "Epoch 78/100\n",
      "\u001b[1m28/28\u001b[0m \u001b[32m━━━━━━━━━━━━━━━━━━━━\u001b[0m\u001b[37m\u001b[0m \u001b[1m0s\u001b[0m 8ms/step - attrition_output_accuracy: 0.9871 - attrition_output_mse: 0.0132 - department_output_accuracy: 0.9719 - department_output_mse: 0.0199 - loss: 0.0331 - val_attrition_output_accuracy: 0.7873 - val_attrition_output_mse: 0.1750 - val_department_output_accuracy: 0.6244 - val_department_output_mse: 0.2110 - val_loss: 0.3860\n",
      "Epoch 79/100\n",
      "\u001b[1m28/28\u001b[0m \u001b[32m━━━━━━━━━━━━━━━━━━━━\u001b[0m\u001b[37m\u001b[0m \u001b[1m0s\u001b[0m 10ms/step - attrition_output_accuracy: 0.9920 - attrition_output_mse: 0.0096 - department_output_accuracy: 0.9734 - department_output_mse: 0.0181 - loss: 0.0277 - val_attrition_output_accuracy: 0.8009 - val_attrition_output_mse: 0.1681 - val_department_output_accuracy: 0.6199 - val_department_output_mse: 0.2126 - val_loss: 0.3806\n",
      "Epoch 80/100\n",
      "\u001b[1m28/28\u001b[0m \u001b[32m━━━━━━━━━━━━━━━━━━━━\u001b[0m\u001b[37m\u001b[0m \u001b[1m1s\u001b[0m 7ms/step - attrition_output_accuracy: 0.9902 - attrition_output_mse: 0.0098 - department_output_accuracy: 0.9697 - department_output_mse: 0.0220 - loss: 0.0318 - val_attrition_output_accuracy: 0.7919 - val_attrition_output_mse: 0.1683 - val_department_output_accuracy: 0.6471 - val_department_output_mse: 0.2099 - val_loss: 0.3782\n",
      "Epoch 81/100\n",
      "\u001b[1m28/28\u001b[0m \u001b[32m━━━━━━━━━━━━━━━━━━━━\u001b[0m\u001b[37m\u001b[0m \u001b[1m0s\u001b[0m 6ms/step - attrition_output_accuracy: 0.9941 - attrition_output_mse: 0.0073 - department_output_accuracy: 0.9774 - department_output_mse: 0.0148 - loss: 0.0221 - val_attrition_output_accuracy: 0.8009 - val_attrition_output_mse: 0.1710 - val_department_output_accuracy: 0.6244 - val_department_output_mse: 0.2108 - val_loss: 0.3818\n",
      "Epoch 82/100\n",
      "\u001b[1m28/28\u001b[0m \u001b[32m━━━━━━━━━━━━━━━━━━━━\u001b[0m\u001b[37m\u001b[0m \u001b[1m0s\u001b[0m 7ms/step - attrition_output_accuracy: 0.9853 - attrition_output_mse: 0.0153 - department_output_accuracy: 0.9729 - department_output_mse: 0.0182 - loss: 0.0335 - val_attrition_output_accuracy: 0.7964 - val_attrition_output_mse: 0.1665 - val_department_output_accuracy: 0.6244 - val_department_output_mse: 0.2165 - val_loss: 0.3830\n",
      "Epoch 83/100\n",
      "\u001b[1m28/28\u001b[0m \u001b[32m━━━━━━━━━━━━━━━━━━━━\u001b[0m\u001b[37m\u001b[0m \u001b[1m1s\u001b[0m 17ms/step - attrition_output_accuracy: 0.9879 - attrition_output_mse: 0.0133 - department_output_accuracy: 0.9785 - department_output_mse: 0.0168 - loss: 0.0301 - val_attrition_output_accuracy: 0.7828 - val_attrition_output_mse: 0.1871 - val_department_output_accuracy: 0.6290 - val_department_output_mse: 0.2132 - val_loss: 0.4003\n",
      "Epoch 84/100\n",
      "\u001b[1m28/28\u001b[0m \u001b[32m━━━━━━━━━━━━━━━━━━━━\u001b[0m\u001b[37m\u001b[0m \u001b[1m1s\u001b[0m 8ms/step - attrition_output_accuracy: 0.9873 - attrition_output_mse: 0.0141 - department_output_accuracy: 0.9781 - department_output_mse: 0.0170 - loss: 0.0311 - val_attrition_output_accuracy: 0.7919 - val_attrition_output_mse: 0.1759 - val_department_output_accuracy: 0.6199 - val_department_output_mse: 0.2187 - val_loss: 0.3946\n",
      "Epoch 85/100\n",
      "\u001b[1m28/28\u001b[0m \u001b[32m━━━━━━━━━━━━━━━━━━━━\u001b[0m\u001b[37m\u001b[0m \u001b[1m0s\u001b[0m 9ms/step - attrition_output_accuracy: 0.9890 - attrition_output_mse: 0.0117 - department_output_accuracy: 0.9763 - department_output_mse: 0.0176 - loss: 0.0293 - val_attrition_output_accuracy: 0.8009 - val_attrition_output_mse: 0.1679 - val_department_output_accuracy: 0.6516 - val_department_output_mse: 0.2060 - val_loss: 0.3739\n",
      "Epoch 86/100\n",
      "\u001b[1m28/28\u001b[0m \u001b[32m━━━━━━━━━━━━━━━━━━━━\u001b[0m\u001b[37m\u001b[0m \u001b[1m0s\u001b[0m 5ms/step - attrition_output_accuracy: 0.9891 - attrition_output_mse: 0.0130 - department_output_accuracy: 0.9637 - department_output_mse: 0.0240 - loss: 0.0370 - val_attrition_output_accuracy: 0.7964 - val_attrition_output_mse: 0.1700 - val_department_output_accuracy: 0.6335 - val_department_output_mse: 0.2122 - val_loss: 0.3823\n",
      "Epoch 87/100\n",
      "\u001b[1m28/28\u001b[0m \u001b[32m━━━━━━━━━━━━━━━━━━━━\u001b[0m\u001b[37m\u001b[0m \u001b[1m1s\u001b[0m 8ms/step - attrition_output_accuracy: 0.9898 - attrition_output_mse: 0.0113 - department_output_accuracy: 0.9683 - department_output_mse: 0.0211 - loss: 0.0324 - val_attrition_output_accuracy: 0.7964 - val_attrition_output_mse: 0.1779 - val_department_output_accuracy: 0.6154 - val_department_output_mse: 0.2135 - val_loss: 0.3913\n",
      "Epoch 88/100\n",
      "\u001b[1m28/28\u001b[0m \u001b[32m━━━━━━━━━━━━━━━━━━━━\u001b[0m\u001b[37m\u001b[0m \u001b[1m1s\u001b[0m 13ms/step - attrition_output_accuracy: 0.9935 - attrition_output_mse: 0.0075 - department_output_accuracy: 0.9660 - department_output_mse: 0.0223 - loss: 0.0298 - val_attrition_output_accuracy: 0.7919 - val_attrition_output_mse: 0.1852 - val_department_output_accuracy: 0.6154 - val_department_output_mse: 0.2185 - val_loss: 0.4037\n",
      "Epoch 89/100\n",
      "\u001b[1m28/28\u001b[0m \u001b[32m━━━━━━━━━━━━━━━━━━━━\u001b[0m\u001b[37m\u001b[0m \u001b[1m1s\u001b[0m 21ms/step - attrition_output_accuracy: 0.9883 - attrition_output_mse: 0.0137 - department_output_accuracy: 0.9734 - department_output_mse: 0.0179 - loss: 0.0316 - val_attrition_output_accuracy: 0.7964 - val_attrition_output_mse: 0.1712 - val_department_output_accuracy: 0.6425 - val_department_output_mse: 0.2140 - val_loss: 0.3851\n",
      "Epoch 90/100\n",
      "\u001b[1m28/28\u001b[0m \u001b[32m━━━━━━━━━━━━━━━━━━━━\u001b[0m\u001b[37m\u001b[0m \u001b[1m1s\u001b[0m 16ms/step - attrition_output_accuracy: 0.9915 - attrition_output_mse: 0.0094 - department_output_accuracy: 0.9744 - department_output_mse: 0.0167 - loss: 0.0262 - val_attrition_output_accuracy: 0.7919 - val_attrition_output_mse: 0.1762 - val_department_output_accuracy: 0.6199 - val_department_output_mse: 0.2149 - val_loss: 0.3912\n",
      "Epoch 91/100\n",
      "\u001b[1m28/28\u001b[0m \u001b[32m━━━━━━━━━━━━━━━━━━━━\u001b[0m\u001b[37m\u001b[0m \u001b[1m1s\u001b[0m 18ms/step - attrition_output_accuracy: 0.9891 - attrition_output_mse: 0.0118 - department_output_accuracy: 0.9710 - department_output_mse: 0.0167 - loss: 0.0285 - val_attrition_output_accuracy: 0.7964 - val_attrition_output_mse: 0.1737 - val_department_output_accuracy: 0.6199 - val_department_output_mse: 0.2156 - val_loss: 0.3892\n",
      "Epoch 92/100\n",
      "\u001b[1m28/28\u001b[0m \u001b[32m━━━━━━━━━━━━━━━━━━━━\u001b[0m\u001b[37m\u001b[0m \u001b[1m0s\u001b[0m 13ms/step - attrition_output_accuracy: 0.9915 - attrition_output_mse: 0.0099 - department_output_accuracy: 0.9728 - department_output_mse: 0.0168 - loss: 0.0267 - val_attrition_output_accuracy: 0.7964 - val_attrition_output_mse: 0.1762 - val_department_output_accuracy: 0.6063 - val_department_output_mse: 0.2177 - val_loss: 0.3939\n",
      "Epoch 93/100\n",
      "\u001b[1m28/28\u001b[0m \u001b[32m━━━━━━━━━━━━━━━━━━━━\u001b[0m\u001b[37m\u001b[0m \u001b[1m0s\u001b[0m 10ms/step - attrition_output_accuracy: 0.9906 - attrition_output_mse: 0.0116 - department_output_accuracy: 0.9703 - department_output_mse: 0.0185 - loss: 0.0301 - val_attrition_output_accuracy: 0.7919 - val_attrition_output_mse: 0.1757 - val_department_output_accuracy: 0.6290 - val_department_output_mse: 0.2141 - val_loss: 0.3898\n",
      "Epoch 94/100\n",
      "\u001b[1m28/28\u001b[0m \u001b[32m━━━━━━━━━━━━━━━━━━━━\u001b[0m\u001b[37m\u001b[0m \u001b[1m1s\u001b[0m 16ms/step - attrition_output_accuracy: 0.9896 - attrition_output_mse: 0.0103 - department_output_accuracy: 0.9711 - department_output_mse: 0.0187 - loss: 0.0291 - val_attrition_output_accuracy: 0.7964 - val_attrition_output_mse: 0.1699 - val_department_output_accuracy: 0.6290 - val_department_output_mse: 0.2159 - val_loss: 0.3859\n",
      "Epoch 95/100\n",
      "\u001b[1m28/28\u001b[0m \u001b[32m━━━━━━━━━━━━━━━━━━━━\u001b[0m\u001b[37m\u001b[0m \u001b[1m1s\u001b[0m 14ms/step - attrition_output_accuracy: 0.9934 - attrition_output_mse: 0.0080 - department_output_accuracy: 0.9809 - department_output_mse: 0.0122 - loss: 0.0202 - val_attrition_output_accuracy: 0.7964 - val_attrition_output_mse: 0.1723 - val_department_output_accuracy: 0.6154 - val_department_output_mse: 0.2177 - val_loss: 0.3901\n",
      "Epoch 96/100\n",
      "\u001b[1m28/28\u001b[0m \u001b[32m━━━━━━━━━━━━━━━━━━━━\u001b[0m\u001b[37m\u001b[0m \u001b[1m0s\u001b[0m 14ms/step - attrition_output_accuracy: 0.9943 - attrition_output_mse: 0.0073 - department_output_accuracy: 0.9822 - department_output_mse: 0.0119 - loss: 0.0192 - val_attrition_output_accuracy: 0.7919 - val_attrition_output_mse: 0.1814 - val_department_output_accuracy: 0.6244 - val_department_output_mse: 0.2203 - val_loss: 0.4017\n",
      "Epoch 97/100\n",
      "\u001b[1m28/28\u001b[0m \u001b[32m━━━━━━━━━━━━━━━━━━━━\u001b[0m\u001b[37m\u001b[0m \u001b[1m0s\u001b[0m 9ms/step - attrition_output_accuracy: 0.9916 - attrition_output_mse: 0.0093 - department_output_accuracy: 0.9728 - department_output_mse: 0.0167 - loss: 0.0260 - val_attrition_output_accuracy: 0.7919 - val_attrition_output_mse: 0.1772 - val_department_output_accuracy: 0.6290 - val_department_output_mse: 0.2218 - val_loss: 0.3991\n",
      "Epoch 98/100\n",
      "\u001b[1m28/28\u001b[0m \u001b[32m━━━━━━━━━━━━━━━━━━━━\u001b[0m\u001b[37m\u001b[0m \u001b[1m1s\u001b[0m 8ms/step - attrition_output_accuracy: 0.9893 - attrition_output_mse: 0.0121 - department_output_accuracy: 0.9714 - department_output_mse: 0.0174 - loss: 0.0295 - val_attrition_output_accuracy: 0.7964 - val_attrition_output_mse: 0.1733 - val_department_output_accuracy: 0.6244 - val_department_output_mse: 0.2174 - val_loss: 0.3906\n",
      "Epoch 99/100\n",
      "\u001b[1m28/28\u001b[0m \u001b[32m━━━━━━━━━━━━━━━━━━━━\u001b[0m\u001b[37m\u001b[0m \u001b[1m0s\u001b[0m 7ms/step - attrition_output_accuracy: 0.9904 - attrition_output_mse: 0.0106 - department_output_accuracy: 0.9745 - department_output_mse: 0.0154 - loss: 0.0259 - val_attrition_output_accuracy: 0.7919 - val_attrition_output_mse: 0.1785 - val_department_output_accuracy: 0.6335 - val_department_output_mse: 0.2221 - val_loss: 0.4006\n",
      "Epoch 100/100\n",
      "\u001b[1m28/28\u001b[0m \u001b[32m━━━━━━━━━━━━━━━━━━━━\u001b[0m\u001b[37m\u001b[0m \u001b[1m0s\u001b[0m 9ms/step - attrition_output_accuracy: 0.9945 - attrition_output_mse: 0.0064 - department_output_accuracy: 0.9817 - department_output_mse: 0.0128 - loss: 0.0191 - val_attrition_output_accuracy: 0.7919 - val_attrition_output_mse: 0.1787 - val_department_output_accuracy: 0.5928 - val_department_output_mse: 0.2267 - val_loss: 0.4054\n"
     ]
    },
    {
     "data": {
      "text/plain": [
       "<keras.src.callbacks.history.History at 0x13e0fdf90>"
      ]
     },
     "execution_count": 17,
     "metadata": {},
     "output_type": "execute_result"
    }
   ],
   "source": [
    "# Train the model\n",
    "model.fit(\n",
    "    X_train_scaled, \n",
    "    {\n",
    "        'department_output':y_train_department,\n",
    "        'attrition_output':y_train_attrition\n",
    "    },\n",
    "    epochs = 100,\n",
    "    batch_size = 32,\n",
    "    validation_split = 0.2\n",
    ")\n"
   ]
  },
  {
   "cell_type": "code",
   "execution_count": 18,
   "metadata": {
    "colab": {
     "base_uri": "https://localhost:8080/"
    },
    "id": "VsMoaQlgGc3U",
    "outputId": "1bd4e601-e964-4abc-ad83-aeecf6b696be"
   },
   "outputs": [
    {
     "name": "stdout",
     "output_type": "stream",
     "text": [
      "12/12 - 0s - 5ms/step - attrition_output_accuracy: 0.8179 - attrition_output_mse: 0.1679 - department_output_accuracy: 0.5353 - department_output_mse: 0.2561 - loss: 0.4240\n",
      "{'attrition_output_accuracy': 0.8179348111152649, 'attrition_output_mse': 0.16791526973247528, 'department_output_accuracy': 0.5353260636329651, 'department_output_mse': 0.25608035922050476, 'loss': 0.42399564385414124}\n"
     ]
    }
   ],
   "source": [
    "# Evaluate the model with the testing data\n",
    "\n",
    "results = model.evaluate(\n",
    "    X_test_scaled,\n",
    "    {\n",
    "        'department_output': y_test_department,\n",
    "        'attrition_output': y_test_attrition,\n",
    "    },\n",
    "    verbose = 2,\n",
    "    return_dict=True\n",
    ")\n",
    "\n",
    "print(results)"
   ]
  },
  {
   "cell_type": "code",
   "execution_count": 19,
   "metadata": {
    "colab": {
     "base_uri": "https://localhost:8080/"
    },
    "id": "ZlCtlHi0Vt54",
    "outputId": "bc21ef3e-80c2-4b38-9c29-79515bc23dec"
   },
   "outputs": [
    {
     "name": "stdout",
     "output_type": "stream",
     "text": [
      "Department predictions accuracy: 0.5353260636329651\n",
      "Attrition predictions accuracy: 0.8179348111152649\n"
     ]
    }
   ],
   "source": [
    "# Print the accuracy for both department and attrition\n",
    "print(f'Department predictions accuracy: {results[\"department_output_accuracy\"]}')\n",
    "print(f'Attrition predictions accuracy: {results[\"attrition_output_accuracy\"]}')\n"
   ]
  },
  {
   "cell_type": "markdown",
   "metadata": {
    "id": "eGSyfsZfWOQM"
   },
   "source": [
    "# Summary\n",
    "\n",
    "In the provided space below, briefly answer the following questions.\n",
    "\n",
    "1. Is accuracy the best metric to use on this data? Why or why not?\n",
    "\n",
    "2. What activation functions did you choose for your output layers, and why?\n",
    "\n",
    "3. Can you name a few ways that this model might be improved?"
   ]
  },
  {
   "cell_type": "markdown",
   "metadata": {
    "id": "pi9SLpFnWvbF"
   },
   "source": [
    "YOUR ANSWERS HERE\n",
    "\n",
    "1. \n",
    "2. \n",
    "3. "
   ]
  },
  {
   "cell_type": "markdown",
   "metadata": {},
   "source": [
    "# 1 -> Accuracy is an acceptable metric, however it appears to be best suited to the binary classification of attriution as opposed to department, which is most likely the result of not having sufficiently relevant data to predict which department someone would wind up in.\n",
    "# 2 -> the sigmoid function has been selected for the output layer of attrition layer because attrition is a binary poutcome, while the softmax function has been chosen for the department layer output as it contians 3 possible catoegires, the sum total possibilitiues should euqal to 1.\n",
    "# 3 -> collect more data relevant to predicting which department a given individual would be part of, while predicting attrion may benefit from additioal data related to future job prospects vs economic benefits (i.e. salary).  There are more columns provided int he data set than have been used for the X trainig/test data.  Further analysis would be needed to see if other columns would be more appropriate for increasing the accuracy of either attrition or department predictions."
   ]
  },
  {
   "cell_type": "code",
   "execution_count": null,
   "metadata": {},
   "outputs": [],
   "source": []
  }
 ],
 "metadata": {
  "colab": {
   "provenance": []
  },
  "kernelspec": {
   "display_name": "Python 3 (ipykernel)",
   "language": "python",
   "name": "python3"
  },
  "language_info": {
   "codemirror_mode": {
    "name": "ipython",
    "version": 3
   },
   "file_extension": ".py",
   "mimetype": "text/x-python",
   "name": "python",
   "nbconvert_exporter": "python",
   "pygments_lexer": "ipython3",
   "version": "3.11.7"
  },
  "vscode": {
   "interpreter": {
    "hash": "31f2aee4e71d21fbe5cf8b01ff0e069b9275f58929596ceb00d14d90e3e16cd6"
   }
  }
 },
 "nbformat": 4,
 "nbformat_minor": 0
}
